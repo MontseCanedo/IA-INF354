{
 "cells": [
  {
   "cell_type": "code",
   "execution_count": 1,
   "metadata": {},
   "outputs": [],
   "source": [
    "from kanren import Relation, facts, run, eq, membero, var, lall"
   ]
  },
  {
   "cell_type": "code",
   "execution_count": 17,
   "metadata": {},
   "outputs": [],
   "source": [
    "parent = Relation()\n",
    "facts(parent, (\"Mauricio\", \"Montserrat\"),\n",
    "      (\"Mauricio\", \"Alejandra\"),\n",
    "      (\"Sofia\", \"Yolanda\"),\n",
    "      (\"Yolanda\", \"Montserrat\"),\n",
    "      (\"Yolanda\", \"Alejandra\"),\n",
    "      (\"Alejandro\", \"Yolanda\"),\n",
    "      (\"Sofia\", \"Jose\"),\n",
    "      (\"Alejandro\", \"Jose\"),\n",
    "      (\"Luis\", \"Mauricio\"),\n",
    "      (\"Elsa\", \"Mauricio\"),)\n",
    "x = var()"
   ]
  },
  {
   "cell_type": "code",
   "execution_count": 15,
   "metadata": {},
   "outputs": [
    {
     "data": {
      "text/plain": [
       "('Luciana',)"
      ]
     },
     "execution_count": 15,
     "metadata": {},
     "output_type": "execute_result"
    }
   ],
   "source": [
    "run(2, x, parent(\"Alejandra\", x))"
   ]
  },
  {
   "cell_type": "code",
   "execution_count": 4,
   "metadata": {},
   "outputs": [],
   "source": [
    "def grandparent(x, z):\n",
    "    y = var()\n",
    "    return lall(parent(x, y), parent(y, z))"
   ]
  },
  {
   "cell_type": "code",
   "execution_count": 19,
   "metadata": {},
   "outputs": [],
   "source": [
    "def brother(x, z):\n",
    "    y = var()\n",
    "    w = var()\n",
    "    return lall(parent(y, z), parent(y, x))"
   ]
  },
  {
   "cell_type": "code",
   "execution_count": 6,
   "metadata": {},
   "outputs": [],
   "source": [
    "def uncle(x, z):\n",
    "    y = var()\n",
    "    return lall(brother(x, y), parent(y, z))"
   ]
  },
  {
   "cell_type": "code",
   "execution_count": 7,
   "metadata": {},
   "outputs": [
    {
     "data": {
      "text/plain": [
       "('Yolanda', 'Mauricio')"
      ]
     },
     "execution_count": 7,
     "metadata": {},
     "output_type": "execute_result"
    }
   ],
   "source": [
    "run(2, x, grandparent(x, \"Luciana\"))"
   ]
  },
  {
   "cell_type": "code",
   "execution_count": 25,
   "metadata": {},
   "outputs": [
    {
     "data": {
      "text/plain": [
       "('Montserrat',)"
      ]
     },
     "execution_count": 25,
     "metadata": {},
     "output_type": "execute_result"
    }
   ],
   "source": [
    "run(1, x, brother(x, \"Alejandra\"))"
   ]
  },
  {
   "cell_type": "code",
   "execution_count": 27,
   "metadata": {},
   "outputs": [
    {
     "data": {
      "text/plain": [
       "('Mauricio',)"
      ]
     },
     "execution_count": 27,
     "metadata": {},
     "output_type": "execute_result"
    }
   ],
   "source": [
    "run(1, x, uncle(x, \"Montserrat\"))"
   ]
  },
  {
   "cell_type": "code",
   "execution_count": null,
   "metadata": {},
   "outputs": [],
   "source": [
    "parent = Relation()\n",
    "facts(parent, (\"Luis\", \"Mauricio\"),\n",
    "      (\"Luis\", \"Luis2\"),\n",
    "      (\"Elsa\", \"Mauricio\"),\n",
    "      (\"Elsa\", \"Luis2\"),\n",
    "      (\"Alejandro\", \"Yolanda\"),\n",
    "      (\"Alejandro\", \"Jose\"),\n",
    "      (\"Sofia\", \"Yolanda\"),\n",
    "      (\"Sofia\", \"Jose\"),\n",
    "      (\"Mauricio\", \"Montserrat\"),\n",
    "      (\"Mauricio\", \"Alejandra\"),\n",
    "      (\"Yolanda\", \"Montserrat\"),\n",
    "      (\"Yolanda\", \"Alejandra\"),\n",
    "      (\"Alejandra\", \"Luciana\"),\n",
    "      (\"Israel\", \"Luciana\"))\n",
    "x = var()"
   ]
  }
 ],
 "metadata": {
  "kernelspec": {
   "display_name": "Python 3",
   "language": "python",
   "name": "python3"
  },
  "language_info": {
   "codemirror_mode": {
    "name": "ipython",
    "version": 3
   },
   "file_extension": ".py",
   "mimetype": "text/x-python",
   "name": "python",
   "nbconvert_exporter": "python",
   "pygments_lexer": "ipython3",
   "version": "3.8.5"
  }
 },
 "nbformat": 4,
 "nbformat_minor": 4
}
