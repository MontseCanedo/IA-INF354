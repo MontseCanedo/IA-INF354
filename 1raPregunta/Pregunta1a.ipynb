{
 "cells": [
  {
   "cell_type": "code",
   "execution_count": 1,
   "metadata": {},
   "outputs": [],
   "source": [
    "import pandas as pd\n",
    "import matplotlib.pyplot as plt\n",
    "import numpy as np"
   ]
  },
  {
   "cell_type": "markdown",
   "metadata": {},
   "source": [
    "# Pregunta 1: Primer dataset"
   ]
  },
  {
   "cell_type": "code",
   "execution_count": 2,
   "metadata": {},
   "outputs": [
    {
     "data": {
      "text/html": [
       "<div>\n",
       "<style scoped>\n",
       "    .dataframe tbody tr th:only-of-type {\n",
       "        vertical-align: middle;\n",
       "    }\n",
       "\n",
       "    .dataframe tbody tr th {\n",
       "        vertical-align: top;\n",
       "    }\n",
       "\n",
       "    .dataframe thead th {\n",
       "        text-align: right;\n",
       "    }\n",
       "</style>\n",
       "<table border=\"1\" class=\"dataframe\">\n",
       "  <thead>\n",
       "    <tr style=\"text-align: right;\">\n",
       "      <th></th>\n",
       "      <th>country</th>\n",
       "      <th>beer_servings</th>\n",
       "      <th>spirit_servings</th>\n",
       "      <th>wine_servings</th>\n",
       "      <th>total_litres_of_pure_alcohol</th>\n",
       "    </tr>\n",
       "  </thead>\n",
       "  <tbody>\n",
       "    <tr>\n",
       "      <th>0</th>\n",
       "      <td>Afghanistan</td>\n",
       "      <td>0</td>\n",
       "      <td>0</td>\n",
       "      <td>0</td>\n",
       "      <td>0.0</td>\n",
       "    </tr>\n",
       "    <tr>\n",
       "      <th>1</th>\n",
       "      <td>Albania</td>\n",
       "      <td>89</td>\n",
       "      <td>132</td>\n",
       "      <td>54</td>\n",
       "      <td>4.9</td>\n",
       "    </tr>\n",
       "    <tr>\n",
       "      <th>2</th>\n",
       "      <td>Algeria</td>\n",
       "      <td>25</td>\n",
       "      <td>0</td>\n",
       "      <td>14</td>\n",
       "      <td>0.7</td>\n",
       "    </tr>\n",
       "    <tr>\n",
       "      <th>3</th>\n",
       "      <td>Andorra</td>\n",
       "      <td>245</td>\n",
       "      <td>138</td>\n",
       "      <td>312</td>\n",
       "      <td>12.4</td>\n",
       "    </tr>\n",
       "    <tr>\n",
       "      <th>4</th>\n",
       "      <td>Angola</td>\n",
       "      <td>217</td>\n",
       "      <td>57</td>\n",
       "      <td>45</td>\n",
       "      <td>5.9</td>\n",
       "    </tr>\n",
       "    <tr>\n",
       "      <th>...</th>\n",
       "      <td>...</td>\n",
       "      <td>...</td>\n",
       "      <td>...</td>\n",
       "      <td>...</td>\n",
       "      <td>...</td>\n",
       "    </tr>\n",
       "    <tr>\n",
       "      <th>188</th>\n",
       "      <td>Venezuela</td>\n",
       "      <td>333</td>\n",
       "      <td>100</td>\n",
       "      <td>3</td>\n",
       "      <td>7.7</td>\n",
       "    </tr>\n",
       "    <tr>\n",
       "      <th>189</th>\n",
       "      <td>Vietnam</td>\n",
       "      <td>111</td>\n",
       "      <td>2</td>\n",
       "      <td>1</td>\n",
       "      <td>2.0</td>\n",
       "    </tr>\n",
       "    <tr>\n",
       "      <th>190</th>\n",
       "      <td>Yemen</td>\n",
       "      <td>6</td>\n",
       "      <td>0</td>\n",
       "      <td>0</td>\n",
       "      <td>0.1</td>\n",
       "    </tr>\n",
       "    <tr>\n",
       "      <th>191</th>\n",
       "      <td>Zambia</td>\n",
       "      <td>32</td>\n",
       "      <td>19</td>\n",
       "      <td>4</td>\n",
       "      <td>2.5</td>\n",
       "    </tr>\n",
       "    <tr>\n",
       "      <th>192</th>\n",
       "      <td>Zimbabwe</td>\n",
       "      <td>64</td>\n",
       "      <td>18</td>\n",
       "      <td>4</td>\n",
       "      <td>4.7</td>\n",
       "    </tr>\n",
       "  </tbody>\n",
       "</table>\n",
       "<p>193 rows × 5 columns</p>\n",
       "</div>"
      ],
      "text/plain": [
       "         country  beer_servings  spirit_servings  wine_servings  \\\n",
       "0    Afghanistan              0                0              0   \n",
       "1        Albania             89              132             54   \n",
       "2        Algeria             25                0             14   \n",
       "3        Andorra            245              138            312   \n",
       "4         Angola            217               57             45   \n",
       "..           ...            ...              ...            ...   \n",
       "188    Venezuela            333              100              3   \n",
       "189      Vietnam            111                2              1   \n",
       "190        Yemen              6                0              0   \n",
       "191       Zambia             32               19              4   \n",
       "192     Zimbabwe             64               18              4   \n",
       "\n",
       "     total_litres_of_pure_alcohol  \n",
       "0                             0.0  \n",
       "1                             4.9  \n",
       "2                             0.7  \n",
       "3                            12.4  \n",
       "4                             5.9  \n",
       "..                            ...  \n",
       "188                           7.7  \n",
       "189                           2.0  \n",
       "190                           0.1  \n",
       "191                           2.5  \n",
       "192                           4.7  \n",
       "\n",
       "[193 rows x 5 columns]"
      ]
     },
     "execution_count": 2,
     "metadata": {},
     "output_type": "execute_result"
    }
   ],
   "source": [
    "data = pd.read_csv(\"../../Desktop/consumo_de_alcohol/drinks.csv\")\n",
    "data"
   ]
  },
  {
   "cell_type": "code",
   "execution_count": 3,
   "metadata": {},
   "outputs": [
    {
     "name": "stdout",
     "output_type": "stream",
     "text": [
      "<class 'pandas.core.frame.DataFrame'>\n",
      "RangeIndex: 193 entries, 0 to 192\n",
      "Data columns (total 5 columns):\n",
      " #   Column                        Non-Null Count  Dtype  \n",
      "---  ------                        --------------  -----  \n",
      " 0   country                       193 non-null    object \n",
      " 1   beer_servings                 193 non-null    int64  \n",
      " 2   spirit_servings               193 non-null    int64  \n",
      " 3   wine_servings                 193 non-null    int64  \n",
      " 4   total_litres_of_pure_alcohol  193 non-null    float64\n",
      "dtypes: float64(1), int64(3), object(1)\n",
      "memory usage: 7.7+ KB\n"
     ]
    }
   ],
   "source": [
    "data.info()"
   ]
  },
  {
   "cell_type": "code",
   "execution_count": 4,
   "metadata": {},
   "outputs": [],
   "source": [
    "lista1 = data[\"beer_servings\"].to_list()\n",
    "lista2 = data[\"spirit_servings\"].to_list()\n",
    "lista3 = data[\"wine_servings\"].to_list()\n",
    "lista4 = data[\"total_litres_of_pure_alcohol\"].to_list()"
   ]
  },
  {
   "cell_type": "code",
   "execution_count": 5,
   "metadata": {},
   "outputs": [
    {
     "name": "stdout",
     "output_type": "stream",
     "text": [
      "Lista 1:\n",
      "\n",
      "[0, 89, 25, 245, 217, 102, 193, 21, 261, 279, 21, 122, 42, 0, 143, 142, 295, 263, 34, 23, 167, 76, 173, 245, 31, 231, 25, 88, 37, 144, 57, 147, 240, 17, 15, 130, 79, 159, 1, 76, 0, 149, 230, 93, 192, 361, 0, 32, 224, 15, 52, 193, 162, 6, 52, 92, 18, 224, 20, 77, 263, 127, 347, 8, 52, 346, 31, 133, 199, 53, 9, 28, 93, 1, 69, 234, 233, 9, 5, 0, 9, 313, 63, 85, 82, 77, 6, 124, 58, 21, 0, 31, 62, 281, 20, 82, 19, 0, 343, 236, 26, 8, 13, 0, 5, 149, 0, 0, 98, 238, 62, 0, 77, 31, 12, 47, 5, 376, 49, 5, 251, 203, 78, 3, 42, 188, 169, 22, 0, 306, 285, 44, 213, 163, 71, 343, 194, 1, 140, 109, 297, 247, 43, 194, 171, 120, 105, 0, 56, 0, 9, 283, 157, 25, 60, 196, 270, 56, 0, 225, 284, 16, 8, 128, 90, 152, 185, 5, 2, 99, 106, 1, 36, 36, 197, 51, 51, 19, 6, 45, 206, 16, 219, 36, 249, 115, 25, 21, 333, 111, 6, 32, 64]\n",
      "Lista 2:\n",
      "\n",
      "[0, 132, 0, 138, 57, 128, 25, 179, 72, 75, 46, 176, 63, 0, 173, 373, 84, 114, 4, 0, 41, 173, 35, 145, 2, 252, 7, 0, 1, 56, 65, 1, 122, 2, 1, 124, 192, 76, 3, 1, 254, 87, 87, 137, 154, 170, 0, 3, 81, 44, 286, 147, 74, 4, 69, 0, 0, 194, 3, 35, 133, 151, 98, 0, 100, 117, 3, 112, 438, 69, 0, 31, 302, 326, 98, 215, 61, 114, 1, 0, 3, 118, 69, 42, 97, 202, 21, 246, 22, 34, 0, 97, 0, 216, 55, 29, 152, 0, 244, 133, 15, 11, 4, 0, 1, 100, 0, 0, 31, 68, 50, 0, 189, 114, 6, 18, 1, 3, 0, 6, 88, 79, 118, 2, 5, 200, 71, 16, 0, 63, 104, 39, 117, 160, 186, 215, 67, 42, 16, 226, 122, 326, 2, 205, 315, 221, 18, 0, 38, 5, 1, 131, 25, 3, 12, 293, 51, 11, 0, 76, 157, 104, 13, 178, 2, 60, 100, 35, 15, 258, 27, 1, 2, 21, 156, 3, 22, 71, 41, 9, 237, 135, 126, 6, 158, 35, 101, 18, 100, 2, 0, 19, 18]\n",
      "Lista 3:\n",
      "\n",
      "[0, 54, 14, 312, 45, 45, 221, 11, 212, 191, 5, 51, 7, 0, 36, 42, 212, 8, 13, 0, 8, 8, 35, 16, 1, 94, 7, 0, 7, 16, 1, 4, 100, 1, 1, 172, 8, 3, 1, 9, 74, 11, 254, 5, 113, 134, 0, 1, 278, 3, 26, 9, 3, 1, 2, 233, 0, 59, 0, 1, 97, 370, 59, 1, 149, 175, 10, 218, 28, 2, 2, 21, 1, 1, 2, 185, 78, 0, 0, 0, 0, 165, 9, 237, 9, 16, 1, 12, 2, 1, 0, 6, 123, 62, 31, 0, 2, 0, 56, 271, 4, 1, 0, 0, 1, 120, 0, 0, 18, 5, 18, 0, 8, 128, 10, 5, 0, 1, 8, 0, 190, 175, 1, 1, 2, 7, 129, 1, 0, 23, 18, 1, 74, 21, 1, 56, 339, 7, 9, 18, 167, 73, 0, 32, 71, 11, 24, 0, 140, 0, 7, 127, 51, 2, 11, 116, 276, 1, 0, 81, 112, 0, 0, 7, 2, 186, 280, 16, 0, 1, 86, 4, 19, 5, 7, 20, 7, 32, 9, 0, 45, 5, 195, 1, 84, 220, 8, 11, 3, 1, 0, 4, 4]\n",
      "Lista 4:\n",
      "\n",
      "[0.0, 4.9, 0.7, 12.4, 5.9, 4.9, 8.3, 3.8, 10.4, 9.7, 1.3, 6.3, 2.0, 0.0, 6.3, 14.4, 10.5, 6.8, 1.1, 0.4, 3.8, 4.6, 5.4, 7.2, 0.6, 10.3, 4.3, 6.3, 4.0, 4.0, 2.2, 5.8, 8.2, 1.8, 0.4, 7.6, 5.0, 4.2, 0.1, 1.7, 5.9, 4.4, 10.2, 4.2, 8.2, 11.8, 0.0, 2.3, 10.4, 1.1, 6.6, 6.2, 4.2, 0.2, 2.2, 5.8, 0.5, 9.5, 0.7, 2.0, 10.0, 11.8, 8.9, 2.4, 5.4, 11.3, 1.8, 8.3, 11.9, 2.2, 0.2, 2.5, 7.1, 5.9, 3.0, 11.3, 6.6, 2.2, 0.1, 0.0, 0.2, 11.4, 2.5, 6.5, 3.4, 7.0, 0.5, 6.8, 1.8, 1.0, 0.0, 2.4, 6.2, 10.5, 1.9, 2.8, 3.1, 0.0, 12.9, 11.4, 0.8, 1.5, 0.3, 0.0, 0.6, 6.6, 0.0, 0.0, 2.6, 5.5, 2.3, 0.0, 4.9, 4.9, 0.5, 1.3, 0.1, 6.8, 1.0, 0.2, 9.4, 9.3, 3.5, 0.1, 9.1, 7.0, 6.7, 0.7, 0.0, 6.9, 7.2, 1.5, 7.3, 6.1, 4.6, 10.9, 11.0, 0.9, 9.8, 6.3, 10.4, 11.5, 6.8, 7.7, 10.1, 6.3, 2.6, 0.0, 4.2, 0.1, 0.3, 9.6, 4.1, 6.7, 1.5, 11.4, 10.6, 1.2, 0.0, 8.2, 10.0, 2.2, 1.7, 5.6, 4.7, 7.2, 10.2, 1.0, 0.3, 6.4, 3.9, 0.1, 1.3, 1.1, 6.4, 1.3, 1.4, 2.2, 1.0, 8.3, 8.9, 2.8, 10.4, 5.7, 8.7, 6.6, 2.4, 0.9, 7.7, 2.0, 0.1, 2.5, 4.7]\n"
     ]
    }
   ],
   "source": [
    "print(\"Lista 1:\\n\")\n",
    "print(lista1)\n",
    "print(\"Lista 2:\\n\")\n",
    "print(lista2)\n",
    "print(\"Lista 3:\\n\")\n",
    "print(lista3)\n",
    "print(\"Lista 4:\\n\")\n",
    "print(lista4)"
   ]
  },
  {
   "cell_type": "markdown",
   "metadata": {},
   "source": [
    "## Hallamos la media y la desviación estándar:"
   ]
  },
  {
   "cell_type": "markdown",
   "metadata": {},
   "source": [
    "Para la lista 1."
   ]
  },
  {
   "cell_type": "code",
   "execution_count": 6,
   "metadata": {},
   "outputs": [
    {
     "name": "stdout",
     "output_type": "stream",
     "text": [
      "la media de la lista1 es:  106.16062176165804\n",
      "\n",
      "La desviacion estandar es:  100.8807334785893\n"
     ]
    }
   ],
   "source": [
    "suma = 0\n",
    "suma_desviacion = 0\n",
    "for i in lista1:\n",
    "    suma += i\n",
    "n = len(lista1)\n",
    "suma = suma/n\n",
    "print(\"la media de la lista1 es: \", suma)\n",
    "for i in lista1:\n",
    "    suma_desviacion = suma_desviacion + ( (i - suma)**2 )\n",
    "suma_desviacion= ( suma_desviacion / n)**0.5\n",
    "print(\"\\nLa desviacion estandar es: \", suma_desviacion)"
   ]
  },
  {
   "cell_type": "markdown",
   "metadata": {},
   "source": [
    "Para la lista 2."
   ]
  },
  {
   "cell_type": "code",
   "execution_count": 7,
   "metadata": {},
   "outputs": [
    {
     "name": "stdout",
     "output_type": "stream",
     "text": [
      "la media de la lista2 es:  80.99481865284974\n",
      "\n",
      "La desviacion estandar es:  88.0552992411529\n"
     ]
    }
   ],
   "source": [
    "suma = 0\n",
    "suma_desviacion = 0\n",
    "for i in lista2:\n",
    "    suma += i\n",
    "n = len(lista2)\n",
    "suma = suma/n\n",
    "print(\"la media de la lista2 es: \", suma)\n",
    "for i in lista2:\n",
    "    suma_desviacion = suma_desviacion + ( (i - suma)**2 )\n",
    "suma_desviacion= ( suma_desviacion / n)**0.5\n",
    "print(\"\\nLa desviacion estandar es: \", suma_desviacion)"
   ]
  },
  {
   "cell_type": "markdown",
   "metadata": {},
   "source": [
    "Para la lista 3."
   ]
  },
  {
   "cell_type": "code",
   "execution_count": 8,
   "metadata": {},
   "outputs": [
    {
     "name": "stdout",
     "output_type": "stream",
     "text": [
      "la media de la lista3 es:  49.45077720207254\n",
      "\n",
      "La desviacion estandar es:  79.49085985139483\n"
     ]
    }
   ],
   "source": [
    "suma = 0\n",
    "suma_desviacion = 0\n",
    "for i in lista3:\n",
    "    suma += i\n",
    "n = len(lista3)\n",
    "suma = suma/n\n",
    "print(\"la media de la lista3 es: \", suma)\n",
    "for i in lista3:\n",
    "    suma_desviacion = suma_desviacion + ( (i - suma)**2 )\n",
    "suma_desviacion= ( suma_desviacion / n)**0.5\n",
    "print(\"\\nLa desviacion estandar es: \", suma_desviacion)"
   ]
  },
  {
   "cell_type": "markdown",
   "metadata": {},
   "source": [
    "Para la lista 4."
   ]
  },
  {
   "cell_type": "code",
   "execution_count": 9,
   "metadata": {},
   "outputs": [
    {
     "name": "stdout",
     "output_type": "stream",
     "text": [
      "la media de la lista4 es:  4.717098445595855\n",
      "\n",
      "La desviacion estandar es:  91.21347934928119\n"
     ]
    }
   ],
   "source": [
    "suma = 0\n",
    "suma_desviacion = 0\n",
    "for i in lista4:\n",
    "    suma += i\n",
    "n = len(lista4)\n",
    "suma = suma/n\n",
    "print(\"la media de la lista4 es: \", suma)\n",
    "for i in lista3:\n",
    "    suma_desviacion = suma_desviacion + ( (i - suma)**2 )\n",
    "suma_desviacion = ( suma_desviacion / n)**0.5\n",
    "print(\"\\nLa desviacion estandar es: \", suma_desviacion)"
   ]
  },
  {
   "cell_type": "markdown",
   "metadata": {},
   "source": [
    "En realidad, como vemos en el info del dataset, todas las columnas tienen un len de 193, así que esto se podría omitir para los cálculos. Pero para que el código sea más legible, se pondrá esta variable"
   ]
  },
  {
   "cell_type": "markdown",
   "metadata": {},
   "source": [
    "## Para la mediana:"
   ]
  },
  {
   "cell_type": "markdown",
   "metadata": {},
   "source": [
    "Para la lista 1."
   ]
  },
  {
   "cell_type": "code",
   "execution_count": 10,
   "metadata": {},
   "outputs": [
    {
     "name": "stdout",
     "output_type": "stream",
     "text": [
      "[0, 0, 0, 0, 0, 0, 0, 0, 0, 0, 0, 0, 0, 0, 0, 1, 1, 1, 1, 2, 3, 5, 5, 5, 5, 5, 6, 6, 6, 6, 8, 8, 8, 9, 9, 9, 9, 12, 13, 15, 15, 16, 16, 17, 18, 19, 19, 20, 20, 21, 21, 21, 21, 22, 23, 25, 25, 25, 25, 26, 28, 31, 31, 31, 31, 32, 32, 34, 36, 36, 36, 37, 42, 42, 43, 44, 45, 47, 49, 51, 51, 52, 52, 52, 53, 56, 56, 57, 58, 60, 62, 62, 63, 64, 69, 71, 76, 76, 77, 77, 77, 78, 79, 82, 82, 85, 88, 89, 90, 92, 93, 93, 98, 99, 102, 105, 106, 109, 111, 115, 120, 122, 124, 127, 128, 130, 133, 140, 142, 143, 144, 147, 149, 149, 152, 157, 159, 162, 163, 167, 169, 171, 173, 185, 188, 192, 193, 193, 194, 194, 196, 197, 199, 203, 206, 213, 217, 219, 224, 224, 225, 230, 231, 233, 234, 236, 238, 240, 245, 245, 247, 249, 251, 261, 263, 263, 270, 279, 281, 283, 284, 285, 295, 297, 306, 313, 333, 343, 343, 346, 347, 361, 376]\n",
      "\n",
      "la mediana de la lista1 es:  76\n"
     ]
    }
   ],
   "source": [
    "lista1.sort()\n",
    "print(lista1)\n",
    "m = len(lista1)/2\n",
    "if m % 2 == 0:\n",
    "    print(m)\n",
    "    print(\"\\nla mediana de la lista1 es: \", lista1[int(m)])\n",
    "else:\n",
    "    print(\"\\nla mediana de la lista1 es: \", lista1[int(m)+1])"
   ]
  },
  {
   "cell_type": "markdown",
   "metadata": {},
   "source": [
    "Para la lista 2."
   ]
  },
  {
   "cell_type": "code",
   "execution_count": 11,
   "metadata": {},
   "outputs": [
    {
     "name": "stdout",
     "output_type": "stream",
     "text": [
      "[0, 0, 0, 0, 0, 0, 0, 0, 0, 0, 0, 0, 0, 0, 0, 0, 0, 0, 0, 0, 0, 0, 0, 1, 1, 1, 1, 1, 1, 1, 1, 1, 2, 2, 2, 2, 2, 2, 2, 3, 3, 3, 3, 3, 3, 3, 3, 4, 4, 4, 5, 5, 6, 6, 6, 7, 9, 11, 11, 12, 13, 15, 15, 16, 16, 18, 18, 18, 18, 19, 21, 21, 22, 22, 25, 25, 27, 29, 31, 31, 34, 35, 35, 35, 35, 38, 39, 41, 41, 42, 42, 44, 46, 50, 51, 55, 56, 57, 60, 61, 63, 63, 65, 67, 68, 69, 69, 69, 71, 71, 72, 74, 75, 76, 76, 79, 81, 84, 87, 87, 88, 97, 97, 98, 98, 100, 100, 100, 100, 101, 104, 104, 112, 114, 114, 114, 117, 117, 118, 118, 122, 122, 124, 126, 128, 131, 132, 133, 133, 135, 137, 138, 145, 147, 151, 152, 154, 156, 157, 158, 160, 170, 173, 173, 176, 178, 179, 186, 189, 192, 194, 200, 202, 205, 215, 215, 216, 221, 226, 237, 244, 246, 252, 254, 258, 286, 293, 302, 315, 326, 326, 373, 438]\n",
      "\n",
      "la mediana de la lista1 es:  56\n"
     ]
    }
   ],
   "source": [
    "lista2.sort()\n",
    "print(lista2)\n",
    "m = len(lista2)/2\n",
    "if m % 2 == 0:\n",
    "    print(m)\n",
    "    print(\"la mediana de la lista1 es: \", lista2[int(m)+1])\n",
    "else:\n",
    "    print(\"\\nla mediana de la lista1 es: \", lista2[int(m)])"
   ]
  },
  {
   "cell_type": "markdown",
   "metadata": {},
   "source": [
    "Para la lista 3."
   ]
  },
  {
   "cell_type": "code",
   "execution_count": 12,
   "metadata": {},
   "outputs": [
    {
     "name": "stdout",
     "output_type": "stream",
     "text": [
      "[0, 0, 0, 0, 0, 0, 0, 0, 0, 0, 0, 0, 0, 0, 0, 0, 0, 0, 0, 0, 0, 0, 0, 0, 0, 0, 0, 0, 0, 0, 0, 1, 1, 1, 1, 1, 1, 1, 1, 1, 1, 1, 1, 1, 1, 1, 1, 1, 1, 1, 1, 1, 1, 1, 1, 1, 2, 2, 2, 2, 2, 2, 2, 2, 2, 3, 3, 3, 3, 4, 4, 4, 4, 4, 5, 5, 5, 5, 5, 5, 6, 7, 7, 7, 7, 7, 7, 7, 7, 7, 8, 8, 8, 8, 8, 8, 8, 9, 9, 9, 9, 9, 9, 10, 10, 11, 11, 11, 11, 11, 12, 13, 14, 16, 16, 16, 16, 18, 18, 18, 18, 19, 20, 21, 21, 23, 24, 26, 28, 31, 32, 32, 35, 36, 42, 45, 45, 45, 51, 51, 54, 56, 56, 59, 59, 62, 71, 73, 74, 74, 78, 81, 84, 86, 94, 97, 100, 112, 113, 116, 120, 123, 127, 128, 129, 134, 140, 149, 165, 167, 172, 175, 175, 185, 186, 190, 191, 195, 212, 212, 218, 220, 221, 233, 237, 254, 271, 276, 278, 280, 312, 339, 370]\n",
      "\n",
      "la mediana de la lista1 es:  8\n"
     ]
    }
   ],
   "source": [
    "lista3.sort()\n",
    "print(lista3)\n",
    "m = len(lista3)/2\n",
    "if m % 2 == 0:\n",
    "    print(m)\n",
    "    print(\"\\nla mediana de la lista1 es: \", lista3[int(m)+1])\n",
    "else:\n",
    "    print(\"\\nla mediana de la lista1 es: \", lista3[int(m)])"
   ]
  },
  {
   "cell_type": "markdown",
   "metadata": {},
   "source": [
    "Para la lista 4."
   ]
  },
  {
   "cell_type": "code",
   "execution_count": 13,
   "metadata": {},
   "outputs": [
    {
     "name": "stdout",
     "output_type": "stream",
     "text": [
      "[0.0, 0.0, 0.0, 0.0, 0.0, 0.0, 0.0, 0.0, 0.0, 0.0, 0.0, 0.0, 0.0, 0.1, 0.1, 0.1, 0.1, 0.1, 0.1, 0.1, 0.2, 0.2, 0.2, 0.2, 0.3, 0.3, 0.3, 0.4, 0.4, 0.5, 0.5, 0.5, 0.6, 0.6, 0.7, 0.7, 0.7, 0.8, 0.9, 0.9, 1.0, 1.0, 1.0, 1.0, 1.1, 1.1, 1.1, 1.2, 1.3, 1.3, 1.3, 1.3, 1.4, 1.5, 1.5, 1.5, 1.7, 1.7, 1.8, 1.8, 1.8, 1.9, 2.0, 2.0, 2.0, 2.2, 2.2, 2.2, 2.2, 2.2, 2.2, 2.3, 2.3, 2.4, 2.4, 2.4, 2.5, 2.5, 2.5, 2.6, 2.6, 2.8, 2.8, 3.0, 3.1, 3.4, 3.5, 3.8, 3.8, 3.9, 4.0, 4.0, 4.1, 4.2, 4.2, 4.2, 4.2, 4.3, 4.4, 4.6, 4.6, 4.7, 4.7, 4.9, 4.9, 4.9, 4.9, 5.0, 5.4, 5.4, 5.5, 5.6, 5.7, 5.8, 5.8, 5.9, 5.9, 5.9, 6.1, 6.2, 6.2, 6.3, 6.3, 6.3, 6.3, 6.3, 6.4, 6.4, 6.5, 6.6, 6.6, 6.6, 6.6, 6.7, 6.7, 6.8, 6.8, 6.8, 6.8, 6.9, 7.0, 7.0, 7.1, 7.2, 7.2, 7.2, 7.3, 7.6, 7.7, 7.7, 8.2, 8.2, 8.2, 8.3, 8.3, 8.3, 8.7, 8.9, 8.9, 9.1, 9.3, 9.4, 9.5, 9.6, 9.7, 9.8, 10.0, 10.0, 10.1, 10.2, 10.2, 10.3, 10.4, 10.4, 10.4, 10.4, 10.5, 10.5, 10.6, 10.9, 11.0, 11.3, 11.3, 11.4, 11.4, 11.4, 11.5, 11.8, 11.8, 11.9, 12.4, 12.9, 14.4]\n",
      "\n",
      "la mediana de la lista1 es:  4.2\n"
     ]
    }
   ],
   "source": [
    "lista4.sort()\n",
    "print(lista4)\n",
    "m = len(lista4)/2\n",
    "if m % 2 == 0:\n",
    "    print(m)\n",
    "    print(\"la mediana de la lista1 es: \", lista4[int(m)+1])\n",
    "else:\n",
    "    print(\"\\nla mediana de la lista1 es: \", lista4[int(m)])"
   ]
  },
  {
   "cell_type": "markdown",
   "metadata": {},
   "source": [
    "## Inciso b. Uso de librerías"
   ]
  },
  {
   "cell_type": "code",
   "execution_count": 14,
   "metadata": {},
   "outputs": [
    {
     "data": {
      "text/plain": [
       "count    193.000000\n",
       "mean     106.160622\n",
       "std      101.143103\n",
       "min        0.000000\n",
       "25%       20.000000\n",
       "50%       76.000000\n",
       "75%      188.000000\n",
       "max      376.000000\n",
       "Name: beer_servings, dtype: float64"
      ]
     },
     "execution_count": 14,
     "metadata": {},
     "output_type": "execute_result"
    }
   ],
   "source": [
    "data[\"beer_servings\"].describe()"
   ]
  },
  {
   "cell_type": "code",
   "execution_count": 15,
   "metadata": {},
   "outputs": [
    {
     "data": {
      "text/plain": [
       "count    193.000000\n",
       "mean      80.994819\n",
       "std       88.284312\n",
       "min        0.000000\n",
       "25%        4.000000\n",
       "50%       56.000000\n",
       "75%      128.000000\n",
       "max      438.000000\n",
       "Name: spirit_servings, dtype: float64"
      ]
     },
     "execution_count": 15,
     "metadata": {},
     "output_type": "execute_result"
    }
   ],
   "source": [
    "data[\"spirit_servings\"].describe()"
   ]
  },
  {
   "cell_type": "code",
   "execution_count": 16,
   "metadata": {},
   "outputs": [
    {
     "data": {
      "text/plain": [
       "count    193.000000\n",
       "mean      49.450777\n",
       "std       79.697598\n",
       "min        0.000000\n",
       "25%        1.000000\n",
       "50%        8.000000\n",
       "75%       59.000000\n",
       "max      370.000000\n",
       "Name: wine_servings, dtype: float64"
      ]
     },
     "execution_count": 16,
     "metadata": {},
     "output_type": "execute_result"
    }
   ],
   "source": [
    "data[\"wine_servings\"].describe()"
   ]
  },
  {
   "cell_type": "code",
   "execution_count": 17,
   "metadata": {},
   "outputs": [
    {
     "data": {
      "text/plain": [
       "count    193.000000\n",
       "mean       4.717098\n",
       "std        3.773298\n",
       "min        0.000000\n",
       "25%        1.300000\n",
       "50%        4.200000\n",
       "75%        7.200000\n",
       "max       14.400000\n",
       "Name: total_litres_of_pure_alcohol, dtype: float64"
      ]
     },
     "execution_count": 17,
     "metadata": {},
     "output_type": "execute_result"
    }
   ],
   "source": [
    "data[\"total_litres_of_pure_alcohol\"].describe()"
   ]
  },
  {
   "cell_type": "markdown",
   "metadata": {},
   "source": [
    "Se puede hacer de esa forma, trabajando por columas separadas, o todo el conjunto del dataset, que con la función describe, solo mostrará los datos de las columnas numéricas, como se muestra a continuación:"
   ]
  },
  {
   "cell_type": "code",
   "execution_count": 18,
   "metadata": {},
   "outputs": [
    {
     "data": {
      "text/html": [
       "<div>\n",
       "<style scoped>\n",
       "    .dataframe tbody tr th:only-of-type {\n",
       "        vertical-align: middle;\n",
       "    }\n",
       "\n",
       "    .dataframe tbody tr th {\n",
       "        vertical-align: top;\n",
       "    }\n",
       "\n",
       "    .dataframe thead th {\n",
       "        text-align: right;\n",
       "    }\n",
       "</style>\n",
       "<table border=\"1\" class=\"dataframe\">\n",
       "  <thead>\n",
       "    <tr style=\"text-align: right;\">\n",
       "      <th></th>\n",
       "      <th>beer_servings</th>\n",
       "      <th>spirit_servings</th>\n",
       "      <th>wine_servings</th>\n",
       "      <th>total_litres_of_pure_alcohol</th>\n",
       "    </tr>\n",
       "  </thead>\n",
       "  <tbody>\n",
       "    <tr>\n",
       "      <th>count</th>\n",
       "      <td>193.000000</td>\n",
       "      <td>193.000000</td>\n",
       "      <td>193.000000</td>\n",
       "      <td>193.000000</td>\n",
       "    </tr>\n",
       "    <tr>\n",
       "      <th>mean</th>\n",
       "      <td>106.160622</td>\n",
       "      <td>80.994819</td>\n",
       "      <td>49.450777</td>\n",
       "      <td>4.717098</td>\n",
       "    </tr>\n",
       "    <tr>\n",
       "      <th>std</th>\n",
       "      <td>101.143103</td>\n",
       "      <td>88.284312</td>\n",
       "      <td>79.697598</td>\n",
       "      <td>3.773298</td>\n",
       "    </tr>\n",
       "    <tr>\n",
       "      <th>min</th>\n",
       "      <td>0.000000</td>\n",
       "      <td>0.000000</td>\n",
       "      <td>0.000000</td>\n",
       "      <td>0.000000</td>\n",
       "    </tr>\n",
       "    <tr>\n",
       "      <th>25%</th>\n",
       "      <td>20.000000</td>\n",
       "      <td>4.000000</td>\n",
       "      <td>1.000000</td>\n",
       "      <td>1.300000</td>\n",
       "    </tr>\n",
       "    <tr>\n",
       "      <th>50%</th>\n",
       "      <td>76.000000</td>\n",
       "      <td>56.000000</td>\n",
       "      <td>8.000000</td>\n",
       "      <td>4.200000</td>\n",
       "    </tr>\n",
       "    <tr>\n",
       "      <th>75%</th>\n",
       "      <td>188.000000</td>\n",
       "      <td>128.000000</td>\n",
       "      <td>59.000000</td>\n",
       "      <td>7.200000</td>\n",
       "    </tr>\n",
       "    <tr>\n",
       "      <th>max</th>\n",
       "      <td>376.000000</td>\n",
       "      <td>438.000000</td>\n",
       "      <td>370.000000</td>\n",
       "      <td>14.400000</td>\n",
       "    </tr>\n",
       "  </tbody>\n",
       "</table>\n",
       "</div>"
      ],
      "text/plain": [
       "       beer_servings  spirit_servings  wine_servings  \\\n",
       "count     193.000000       193.000000     193.000000   \n",
       "mean      106.160622        80.994819      49.450777   \n",
       "std       101.143103        88.284312      79.697598   \n",
       "min         0.000000         0.000000       0.000000   \n",
       "25%        20.000000         4.000000       1.000000   \n",
       "50%        76.000000        56.000000       8.000000   \n",
       "75%       188.000000       128.000000      59.000000   \n",
       "max       376.000000       438.000000     370.000000   \n",
       "\n",
       "       total_litres_of_pure_alcohol  \n",
       "count                    193.000000  \n",
       "mean                       4.717098  \n",
       "std                        3.773298  \n",
       "min                        0.000000  \n",
       "25%                        1.300000  \n",
       "50%                        4.200000  \n",
       "75%                        7.200000  \n",
       "max                       14.400000  "
      ]
     },
     "execution_count": 18,
     "metadata": {},
     "output_type": "execute_result"
    }
   ],
   "source": [
    "data.describe()"
   ]
  },
  {
   "cell_type": "markdown",
   "metadata": {},
   "source": [
    "## Inciso c. Gráficas:"
   ]
  },
  {
   "cell_type": "code",
   "execution_count": 23,
   "metadata": {},
   "outputs": [
    {
     "data": {
      "text/plain": [
       "<AxesSubplot:xlabel='spirit_servings', ylabel='wine_servings'>"
      ]
     },
     "execution_count": 23,
     "metadata": {},
     "output_type": "execute_result"
    },
    {
     "data": {
      "image/png": "[encoded data removed]",
      "text/plain": [
       "<Figure size 432x288 with 4 Axes>"
      ]
     },
     "metadata": {
      "needs_background": "light"
     },
     "output_type": "display_data"
    }
   ],
   "source": [
    "figure, axs = plt.subplots(2,2, sharex=True, sharey=True)\n",
    "data.plot(kind=\"scatter\", x=\"beer_servings\", y=\"total_litres_of_pure_alcohol\", ax=axs[0][0])\n",
    "data.plot(kind=\"scatter\", x=\"spirit_servings\", y=\"total_litres_of_pure_alcohol\", ax=axs[0][1])\n",
    "data.plot(kind=\"scatter\", x=\"wine_servings\", y=\"total_litres_of_pure_alcohol\", ax=axs[1][0])\n",
    "data.plot(kind=\"scatter\", x=\"spirit_servings\", y=\"wine_servings\", ax=axs[1][1])"
   ]
  },
  {
   "cell_type": "markdown",
   "metadata": {},
   "source": [
    "Como se ve en los gráficos, son datos que no tienen una correlación entre ellos, y claramente no comparten una tendencia de tipo lineal o exponencial."
   ]
  },
  {
   "cell_type": "code",
   "execution_count": 24,
   "metadata": {},
   "outputs": [
    {
     "data": {
      "text/plain": [
       "Text(0.5, 1.0, 'Histograma de numero total de litros de alcohol puro')"
      ]
     },
     "execution_count": 24,
     "metadata": {},
     "output_type": "execute_result"
    },
    {
     "data": {
      "image/png": "[encoded data removed]",
      "text/plain": [
       "<Figure size 432x288 with 1 Axes>"
      ]
     },
     "metadata": {
      "needs_background": "light"
     },
     "output_type": "display_data"
    }
   ],
   "source": [
    "plt.hist(data[\"total_litres_of_pure_alcohol\"], bins = 20)\n",
    "plt.title(\"Histograma de numero total de litros de alcohol puro\")"
   ]
  },
  {
   "cell_type": "code",
   "execution_count": 26,
   "metadata": {},
   "outputs": [
    {
     "data": {
      "text/plain": [
       "{'whiskers': [<matplotlib.lines.Line2D at 0x21eab550910>,\n",
       "  <matplotlib.lines.Line2D at 0x21eab550ca0>],\n",
       " 'caps': [<matplotlib.lines.Line2D at 0x21eab553040>,\n",
       "  <matplotlib.lines.Line2D at 0x21eab5533a0>],\n",
       " 'boxes': [<matplotlib.lines.Line2D at 0x21eab5505b0>],\n",
       " 'medians': [<matplotlib.lines.Line2D at 0x21eab553700>],\n",
       " 'fliers': [<matplotlib.lines.Line2D at 0x21eab553a60>],\n",
       " 'means': []}"
      ]
     },
     "execution_count": 26,
     "metadata": {},
     "output_type": "execute_result"
    },
    {
     "data": {
      "image/png": "[encoded data removed]",
      "text/plain": [
       "<Figure size 432x288 with 1 Axes>"
      ]
     },
     "metadata": {
      "needs_background": "light"
     },
     "output_type": "display_data"
    }
   ],
   "source": [
    "plt.boxplot(data[\"beer_servings\"])"
   ]
  },
  {
   "cell_type": "code",
   "execution_count": null,
   "metadata": {},
   "outputs": [],
   "source": []
  }
 ],
 "metadata": {
  "kernelspec": {
   "display_name": "Python 3",
   "language": "python",
   "name": "python3"
  },
  "language_info": {
   "codemirror_mode": {
    "name": "ipython",
    "version": 3
   },
   "file_extension": ".py",
   "mimetype": "text/x-python",
   "name": "python",
   "nbconvert_exporter": "python",
   "pygments_lexer": "ipython3",
   "version": "3.8.5"
  }
 },
 "nbformat": 4,
 "nbformat_minor": 4
}
