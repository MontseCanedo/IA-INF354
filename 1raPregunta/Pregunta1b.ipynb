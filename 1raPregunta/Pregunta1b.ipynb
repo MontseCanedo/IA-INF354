{
 "cells": [
  {
   "cell_type": "code",
   "execution_count": 1,
   "metadata": {},
   "outputs": [],
   "source": [
    "import pandas as pd\n",
    "import matplotlib.pyplot as plt\n",
    "import numpy as np"
   ]
  },
  {
   "cell_type": "markdown",
   "metadata": {},
   "source": [
    "# Pregunta 1: Segundo dataset"
   ]
  },
  {
   "cell_type": "code",
   "execution_count": 2,
   "metadata": {},
   "outputs": [
    {
     "data": {
      "text/html": [
       "<div>\n",
       "<style scoped>\n",
       "    .dataframe tbody tr th:only-of-type {\n",
       "        vertical-align: middle;\n",
       "    }\n",
       "\n",
       "    .dataframe tbody tr th {\n",
       "        vertical-align: top;\n",
       "    }\n",
       "\n",
       "    .dataframe thead th {\n",
       "        text-align: right;\n",
       "    }\n",
       "</style>\n",
       "<table border=\"1\" class=\"dataframe\">\n",
       "  <thead>\n",
       "    <tr style=\"text-align: right;\">\n",
       "      <th></th>\n",
       "      <th>Original Title</th>\n",
       "      <th>Company</th>\n",
       "      <th>Rate</th>\n",
       "      <th>Metascore</th>\n",
       "      <th>Minutes</th>\n",
       "      <th>Release</th>\n",
       "      <th>Budget</th>\n",
       "      <th>Opening Weekend USA</th>\n",
       "      <th>Gross USA</th>\n",
       "      <th>Gross Worldwide</th>\n",
       "    </tr>\n",
       "  </thead>\n",
       "  <tbody>\n",
       "    <tr>\n",
       "      <th>0</th>\n",
       "      <td>Iron Man</td>\n",
       "      <td>Marvel</td>\n",
       "      <td>7.9</td>\n",
       "      <td>79</td>\n",
       "      <td>126</td>\n",
       "      <td>2008</td>\n",
       "      <td>140000000</td>\n",
       "      <td>98618668</td>\n",
       "      <td>318604126</td>\n",
       "      <td>585366247</td>\n",
       "    </tr>\n",
       "    <tr>\n",
       "      <th>1</th>\n",
       "      <td>The Incredible Hulk</td>\n",
       "      <td>Marvel</td>\n",
       "      <td>6.7</td>\n",
       "      <td>61</td>\n",
       "      <td>112</td>\n",
       "      <td>2008</td>\n",
       "      <td>150000000</td>\n",
       "      <td>55414050</td>\n",
       "      <td>134806913</td>\n",
       "      <td>263427551</td>\n",
       "    </tr>\n",
       "    <tr>\n",
       "      <th>2</th>\n",
       "      <td>Iron Man 2</td>\n",
       "      <td>Marvel</td>\n",
       "      <td>7.0</td>\n",
       "      <td>57</td>\n",
       "      <td>124</td>\n",
       "      <td>2010</td>\n",
       "      <td>200000000</td>\n",
       "      <td>128122480</td>\n",
       "      <td>312433331</td>\n",
       "      <td>623933331</td>\n",
       "    </tr>\n",
       "    <tr>\n",
       "      <th>3</th>\n",
       "      <td>Thor</td>\n",
       "      <td>Marvel</td>\n",
       "      <td>7.0</td>\n",
       "      <td>57</td>\n",
       "      <td>115</td>\n",
       "      <td>2011</td>\n",
       "      <td>150000000</td>\n",
       "      <td>65723338</td>\n",
       "      <td>181030624</td>\n",
       "      <td>449326618</td>\n",
       "    </tr>\n",
       "    <tr>\n",
       "      <th>4</th>\n",
       "      <td>Captain America: The First Avenger</td>\n",
       "      <td>Marvel</td>\n",
       "      <td>6.9</td>\n",
       "      <td>66</td>\n",
       "      <td>124</td>\n",
       "      <td>2011</td>\n",
       "      <td>140000000</td>\n",
       "      <td>65058524</td>\n",
       "      <td>176654505</td>\n",
       "      <td>370569774</td>\n",
       "    </tr>\n",
       "    <tr>\n",
       "      <th>5</th>\n",
       "      <td>The Avengers</td>\n",
       "      <td>Marvel</td>\n",
       "      <td>8.0</td>\n",
       "      <td>69</td>\n",
       "      <td>143</td>\n",
       "      <td>2012</td>\n",
       "      <td>220000000</td>\n",
       "      <td>207438708</td>\n",
       "      <td>623357910</td>\n",
       "      <td>1518812988</td>\n",
       "    </tr>\n",
       "    <tr>\n",
       "      <th>6</th>\n",
       "      <td>Iron Man Three</td>\n",
       "      <td>Marvel</td>\n",
       "      <td>7.2</td>\n",
       "      <td>62</td>\n",
       "      <td>130</td>\n",
       "      <td>2013</td>\n",
       "      <td>200000000</td>\n",
       "      <td>174144585</td>\n",
       "      <td>409013994</td>\n",
       "      <td>1214811252</td>\n",
       "    </tr>\n",
       "    <tr>\n",
       "      <th>7</th>\n",
       "      <td>Thor: The Dark World</td>\n",
       "      <td>Marvel</td>\n",
       "      <td>6.9</td>\n",
       "      <td>54</td>\n",
       "      <td>112</td>\n",
       "      <td>2013</td>\n",
       "      <td>170000000</td>\n",
       "      <td>85737841</td>\n",
       "      <td>206362140</td>\n",
       "      <td>644783140</td>\n",
       "    </tr>\n",
       "    <tr>\n",
       "      <th>8</th>\n",
       "      <td>Captain America: The Winter Soldier</td>\n",
       "      <td>Marvel</td>\n",
       "      <td>7.7</td>\n",
       "      <td>70</td>\n",
       "      <td>136</td>\n",
       "      <td>2014</td>\n",
       "      <td>170000000</td>\n",
       "      <td>95023721</td>\n",
       "      <td>259766572</td>\n",
       "      <td>714421503</td>\n",
       "    </tr>\n",
       "    <tr>\n",
       "      <th>9</th>\n",
       "      <td>Guardians of the Galaxy</td>\n",
       "      <td>Marvel</td>\n",
       "      <td>8.0</td>\n",
       "      <td>76</td>\n",
       "      <td>121</td>\n",
       "      <td>2014</td>\n",
       "      <td>170000000</td>\n",
       "      <td>94320883</td>\n",
       "      <td>333176600</td>\n",
       "      <td>772776600</td>\n",
       "    </tr>\n",
       "    <tr>\n",
       "      <th>10</th>\n",
       "      <td>Avengers: Age of Ultron</td>\n",
       "      <td>Marvel</td>\n",
       "      <td>7.3</td>\n",
       "      <td>66</td>\n",
       "      <td>141</td>\n",
       "      <td>2015</td>\n",
       "      <td>250000000</td>\n",
       "      <td>191271109</td>\n",
       "      <td>459005868</td>\n",
       "      <td>1402805868</td>\n",
       "    </tr>\n",
       "    <tr>\n",
       "      <th>11</th>\n",
       "      <td>Ant-Man</td>\n",
       "      <td>Marvel</td>\n",
       "      <td>7.3</td>\n",
       "      <td>64</td>\n",
       "      <td>117</td>\n",
       "      <td>2015</td>\n",
       "      <td>130000000</td>\n",
       "      <td>57225526</td>\n",
       "      <td>180202163</td>\n",
       "      <td>519311965</td>\n",
       "    </tr>\n",
       "    <tr>\n",
       "      <th>12</th>\n",
       "      <td>Captain America: Civil War</td>\n",
       "      <td>Marvel</td>\n",
       "      <td>7.8</td>\n",
       "      <td>75</td>\n",
       "      <td>147</td>\n",
       "      <td>2016</td>\n",
       "      <td>250000000</td>\n",
       "      <td>179139142</td>\n",
       "      <td>408084349</td>\n",
       "      <td>1153296293</td>\n",
       "    </tr>\n",
       "    <tr>\n",
       "      <th>13</th>\n",
       "      <td>Doctor Strange</td>\n",
       "      <td>Marvel</td>\n",
       "      <td>7.5</td>\n",
       "      <td>72</td>\n",
       "      <td>115</td>\n",
       "      <td>2016</td>\n",
       "      <td>165000000</td>\n",
       "      <td>85058311</td>\n",
       "      <td>232641920</td>\n",
       "      <td>677718395</td>\n",
       "    </tr>\n",
       "    <tr>\n",
       "      <th>14</th>\n",
       "      <td>Guardians of the Galaxy Vol. 2</td>\n",
       "      <td>Marvel</td>\n",
       "      <td>7.6</td>\n",
       "      <td>67</td>\n",
       "      <td>136</td>\n",
       "      <td>2017</td>\n",
       "      <td>200000000</td>\n",
       "      <td>146510104</td>\n",
       "      <td>389813101</td>\n",
       "      <td>863756051</td>\n",
       "    </tr>\n",
       "    <tr>\n",
       "      <th>15</th>\n",
       "      <td>Spider-Man: Homecoming</td>\n",
       "      <td>Marvel</td>\n",
       "      <td>7.4</td>\n",
       "      <td>73</td>\n",
       "      <td>133</td>\n",
       "      <td>2017</td>\n",
       "      <td>175000000</td>\n",
       "      <td>117027503</td>\n",
       "      <td>334201140</td>\n",
       "      <td>880166924</td>\n",
       "    </tr>\n",
       "    <tr>\n",
       "      <th>16</th>\n",
       "      <td>Thor:Ragnarok</td>\n",
       "      <td>Marvel</td>\n",
       "      <td>7.9</td>\n",
       "      <td>74</td>\n",
       "      <td>130</td>\n",
       "      <td>2017</td>\n",
       "      <td>180000000</td>\n",
       "      <td>122744989</td>\n",
       "      <td>315058289</td>\n",
       "      <td>853977126</td>\n",
       "    </tr>\n",
       "    <tr>\n",
       "      <th>17</th>\n",
       "      <td>Black Panther</td>\n",
       "      <td>Marvel</td>\n",
       "      <td>7.3</td>\n",
       "      <td>88</td>\n",
       "      <td>134</td>\n",
       "      <td>2018</td>\n",
       "      <td>200000000</td>\n",
       "      <td>202003951</td>\n",
       "      <td>700059566</td>\n",
       "      <td>1346913161</td>\n",
       "    </tr>\n",
       "    <tr>\n",
       "      <th>18</th>\n",
       "      <td>Avengers: Infinity War</td>\n",
       "      <td>Marvel</td>\n",
       "      <td>8.5</td>\n",
       "      <td>68</td>\n",
       "      <td>149</td>\n",
       "      <td>2018</td>\n",
       "      <td>321000000</td>\n",
       "      <td>257698183</td>\n",
       "      <td>678815482</td>\n",
       "      <td>2048359754</td>\n",
       "    </tr>\n",
       "    <tr>\n",
       "      <th>19</th>\n",
       "      <td>Ant-Man and the Wasp</td>\n",
       "      <td>Marvel</td>\n",
       "      <td>7.1</td>\n",
       "      <td>70</td>\n",
       "      <td>118</td>\n",
       "      <td>2018</td>\n",
       "      <td>162000000</td>\n",
       "      <td>75812205</td>\n",
       "      <td>216648740</td>\n",
       "      <td>622674139</td>\n",
       "    </tr>\n",
       "    <tr>\n",
       "      <th>20</th>\n",
       "      <td>Captain Marve</td>\n",
       "      <td>Marvel</td>\n",
       "      <td>6.9</td>\n",
       "      <td>64</td>\n",
       "      <td>123</td>\n",
       "      <td>2019</td>\n",
       "      <td>175000000</td>\n",
       "      <td>153433423</td>\n",
       "      <td>426829839</td>\n",
       "      <td>1128274794</td>\n",
       "    </tr>\n",
       "    <tr>\n",
       "      <th>21</th>\n",
       "      <td>Avengers: Endgame</td>\n",
       "      <td>Marvel</td>\n",
       "      <td>8.5</td>\n",
       "      <td>78</td>\n",
       "      <td>181</td>\n",
       "      <td>2019</td>\n",
       "      <td>356000000</td>\n",
       "      <td>357115007</td>\n",
       "      <td>858373000</td>\n",
       "      <td>2797800564</td>\n",
       "    </tr>\n",
       "    <tr>\n",
       "      <th>22</th>\n",
       "      <td>Spider-Man: Far from Home</td>\n",
       "      <td>Marvel</td>\n",
       "      <td>7.6</td>\n",
       "      <td>69</td>\n",
       "      <td>129</td>\n",
       "      <td>2019</td>\n",
       "      <td>160000000</td>\n",
       "      <td>92579212</td>\n",
       "      <td>390532085</td>\n",
       "      <td>1131927996</td>\n",
       "    </tr>\n",
       "    <tr>\n",
       "      <th>23</th>\n",
       "      <td>Catwoman</td>\n",
       "      <td>DC</td>\n",
       "      <td>3.3</td>\n",
       "      <td>27</td>\n",
       "      <td>104</td>\n",
       "      <td>2004</td>\n",
       "      <td>100000000</td>\n",
       "      <td>16728411</td>\n",
       "      <td>40202379</td>\n",
       "      <td>82102379</td>\n",
       "    </tr>\n",
       "    <tr>\n",
       "      <th>24</th>\n",
       "      <td>Batman Begins</td>\n",
       "      <td>DC</td>\n",
       "      <td>8.2</td>\n",
       "      <td>70</td>\n",
       "      <td>140</td>\n",
       "      <td>2005</td>\n",
       "      <td>150000000</td>\n",
       "      <td>48745440</td>\n",
       "      <td>206852432</td>\n",
       "      <td>373413297</td>\n",
       "    </tr>\n",
       "    <tr>\n",
       "      <th>25</th>\n",
       "      <td>Superman Returns</td>\n",
       "      <td>DC</td>\n",
       "      <td>6.0</td>\n",
       "      <td>72</td>\n",
       "      <td>154</td>\n",
       "      <td>2006</td>\n",
       "      <td>270000000</td>\n",
       "      <td>52535096</td>\n",
       "      <td>200081192</td>\n",
       "      <td>391081192</td>\n",
       "    </tr>\n",
       "    <tr>\n",
       "      <th>26</th>\n",
       "      <td>The Dark Knight</td>\n",
       "      <td>DC</td>\n",
       "      <td>9.0</td>\n",
       "      <td>84</td>\n",
       "      <td>152</td>\n",
       "      <td>2008</td>\n",
       "      <td>185000000</td>\n",
       "      <td>158411483</td>\n",
       "      <td>535234033</td>\n",
       "      <td>1004934033</td>\n",
       "    </tr>\n",
       "    <tr>\n",
       "      <th>27</th>\n",
       "      <td>Watchmen</td>\n",
       "      <td>DC</td>\n",
       "      <td>7.6</td>\n",
       "      <td>56</td>\n",
       "      <td>162</td>\n",
       "      <td>2009</td>\n",
       "      <td>130000000</td>\n",
       "      <td>55214334</td>\n",
       "      <td>107509799</td>\n",
       "      <td>185258983</td>\n",
       "    </tr>\n",
       "    <tr>\n",
       "      <th>28</th>\n",
       "      <td>Jonah Hex</td>\n",
       "      <td>DC</td>\n",
       "      <td>4.7</td>\n",
       "      <td>33</td>\n",
       "      <td>81</td>\n",
       "      <td>2010</td>\n",
       "      <td>47000000</td>\n",
       "      <td>5379365</td>\n",
       "      <td>10547117</td>\n",
       "      <td>10903312</td>\n",
       "    </tr>\n",
       "    <tr>\n",
       "      <th>29</th>\n",
       "      <td>Green Lantern</td>\n",
       "      <td>DC</td>\n",
       "      <td>5.5</td>\n",
       "      <td>39</td>\n",
       "      <td>114</td>\n",
       "      <td>2011</td>\n",
       "      <td>200000000</td>\n",
       "      <td>53174303</td>\n",
       "      <td>116601172</td>\n",
       "      <td>219851172</td>\n",
       "    </tr>\n",
       "    <tr>\n",
       "      <th>30</th>\n",
       "      <td>The Dark Knight Rises</td>\n",
       "      <td>DC</td>\n",
       "      <td>8.4</td>\n",
       "      <td>78</td>\n",
       "      <td>164</td>\n",
       "      <td>2012</td>\n",
       "      <td>250000000</td>\n",
       "      <td>160887295</td>\n",
       "      <td>448139099</td>\n",
       "      <td>1081041287</td>\n",
       "    </tr>\n",
       "    <tr>\n",
       "      <th>31</th>\n",
       "      <td>Man of Steel</td>\n",
       "      <td>DC</td>\n",
       "      <td>7.1</td>\n",
       "      <td>55</td>\n",
       "      <td>143</td>\n",
       "      <td>2013</td>\n",
       "      <td>225000000</td>\n",
       "      <td>116619362</td>\n",
       "      <td>291045518</td>\n",
       "      <td>668045518</td>\n",
       "    </tr>\n",
       "    <tr>\n",
       "      <th>32</th>\n",
       "      <td>Batman v Superman: Dawn of Justice</td>\n",
       "      <td>DC</td>\n",
       "      <td>6.5</td>\n",
       "      <td>44</td>\n",
       "      <td>151</td>\n",
       "      <td>2016</td>\n",
       "      <td>250000000</td>\n",
       "      <td>166007347</td>\n",
       "      <td>330360194</td>\n",
       "      <td>873634919</td>\n",
       "    </tr>\n",
       "    <tr>\n",
       "      <th>33</th>\n",
       "      <td>Suicide Squad</td>\n",
       "      <td>DC</td>\n",
       "      <td>6.0</td>\n",
       "      <td>40</td>\n",
       "      <td>123</td>\n",
       "      <td>2016</td>\n",
       "      <td>175000000</td>\n",
       "      <td>133682248</td>\n",
       "      <td>325100054</td>\n",
       "      <td>746846894</td>\n",
       "    </tr>\n",
       "    <tr>\n",
       "      <th>34</th>\n",
       "      <td>Wonder Woman</td>\n",
       "      <td>DC</td>\n",
       "      <td>7.4</td>\n",
       "      <td>76</td>\n",
       "      <td>141</td>\n",
       "      <td>2017</td>\n",
       "      <td>149000000</td>\n",
       "      <td>103251471</td>\n",
       "      <td>412563408</td>\n",
       "      <td>821847012</td>\n",
       "    </tr>\n",
       "    <tr>\n",
       "      <th>35</th>\n",
       "      <td>Justice League</td>\n",
       "      <td>DC</td>\n",
       "      <td>6.4</td>\n",
       "      <td>45</td>\n",
       "      <td>120</td>\n",
       "      <td>2017</td>\n",
       "      <td>300000000</td>\n",
       "      <td>93842239</td>\n",
       "      <td>229024295</td>\n",
       "      <td>657924295</td>\n",
       "    </tr>\n",
       "    <tr>\n",
       "      <th>36</th>\n",
       "      <td>Aquaman</td>\n",
       "      <td>DC</td>\n",
       "      <td>7.0</td>\n",
       "      <td>55</td>\n",
       "      <td>143</td>\n",
       "      <td>2018</td>\n",
       "      <td>160000000</td>\n",
       "      <td>67873522</td>\n",
       "      <td>335061807</td>\n",
       "      <td>1148161807</td>\n",
       "    </tr>\n",
       "    <tr>\n",
       "      <th>37</th>\n",
       "      <td>Shazam!</td>\n",
       "      <td>DC</td>\n",
       "      <td>7.1</td>\n",
       "      <td>71</td>\n",
       "      <td>132</td>\n",
       "      <td>2019</td>\n",
       "      <td>100000000</td>\n",
       "      <td>53505326</td>\n",
       "      <td>140371656</td>\n",
       "      <td>364571656</td>\n",
       "    </tr>\n",
       "    <tr>\n",
       "      <th>38</th>\n",
       "      <td>Joker</td>\n",
       "      <td>DC</td>\n",
       "      <td>8.7</td>\n",
       "      <td>59</td>\n",
       "      <td>122</td>\n",
       "      <td>2019</td>\n",
       "      <td>55000000</td>\n",
       "      <td>96202337</td>\n",
       "      <td>333204580</td>\n",
       "      <td>1060504580</td>\n",
       "    </tr>\n",
       "  </tbody>\n",
       "</table>\n",
       "</div>"
      ],
      "text/plain": [
       "                         Original Title Company  Rate  Metascore  Minutes  \\\n",
       "0                              Iron Man  Marvel   7.9         79      126   \n",
       "1                   The Incredible Hulk  Marvel   6.7         61      112   \n",
       "2                            Iron Man 2  Marvel   7.0         57      124   \n",
       "3                                  Thor  Marvel   7.0         57      115   \n",
       "4    Captain America: The First Avenger  Marvel   6.9         66      124   \n",
       "5                          The Avengers  Marvel   8.0         69      143   \n",
       "6                        Iron Man Three  Marvel   7.2         62      130   \n",
       "7                  Thor: The Dark World  Marvel   6.9         54      112   \n",
       "8   Captain America: The Winter Soldier  Marvel   7.7         70      136   \n",
       "9               Guardians of the Galaxy  Marvel   8.0         76      121   \n",
       "10             Avengers: Age of Ultron   Marvel   7.3         66      141   \n",
       "11                              Ant-Man  Marvel   7.3         64      117   \n",
       "12           Captain America: Civil War  Marvel   7.8         75      147   \n",
       "13                       Doctor Strange  Marvel   7.5         72      115   \n",
       "14       Guardians of the Galaxy Vol. 2  Marvel   7.6         67      136   \n",
       "15               Spider-Man: Homecoming  Marvel   7.4         73      133   \n",
       "16                        Thor:Ragnarok  Marvel   7.9         74      130   \n",
       "17                        Black Panther  Marvel   7.3         88      134   \n",
       "18               Avengers: Infinity War  Marvel   8.5         68      149   \n",
       "19                 Ant-Man and the Wasp  Marvel   7.1         70      118   \n",
       "20                        Captain Marve  Marvel   6.9         64      123   \n",
       "21                    Avengers: Endgame  Marvel   8.5         78      181   \n",
       "22            Spider-Man: Far from Home  Marvel   7.6         69      129   \n",
       "23                             Catwoman      DC   3.3         27      104   \n",
       "24                        Batman Begins      DC   8.2         70      140   \n",
       "25                     Superman Returns      DC   6.0         72      154   \n",
       "26                      The Dark Knight      DC   9.0         84      152   \n",
       "27                             Watchmen      DC   7.6         56      162   \n",
       "28                           Jonah Hex       DC   4.7         33       81   \n",
       "29                        Green Lantern      DC   5.5         39      114   \n",
       "30                The Dark Knight Rises      DC   8.4         78      164   \n",
       "31                         Man of Steel      DC   7.1         55      143   \n",
       "32   Batman v Superman: Dawn of Justice      DC   6.5         44      151   \n",
       "33                       Suicide Squad       DC   6.0         40      123   \n",
       "34                         Wonder Woman      DC   7.4         76      141   \n",
       "35                       Justice League      DC   6.4         45      120   \n",
       "36                              Aquaman      DC   7.0         55      143   \n",
       "37                              Shazam!      DC   7.1         71      132   \n",
       "38                                Joker      DC   8.7         59      122   \n",
       "\n",
       "    Release     Budget  Opening Weekend USA  Gross USA  Gross Worldwide  \n",
       "0      2008  140000000             98618668  318604126        585366247  \n",
       "1      2008  150000000             55414050  134806913        263427551  \n",
       "2      2010  200000000            128122480  312433331        623933331  \n",
       "3      2011  150000000             65723338  181030624        449326618  \n",
       "4      2011  140000000             65058524  176654505        370569774  \n",
       "5      2012  220000000            207438708  623357910       1518812988  \n",
       "6      2013  200000000            174144585  409013994       1214811252  \n",
       "7      2013  170000000             85737841  206362140        644783140  \n",
       "8      2014  170000000             95023721  259766572        714421503  \n",
       "9      2014  170000000             94320883  333176600        772776600  \n",
       "10     2015  250000000            191271109  459005868       1402805868  \n",
       "11     2015  130000000             57225526  180202163        519311965  \n",
       "12     2016  250000000            179139142  408084349       1153296293  \n",
       "13     2016  165000000             85058311  232641920        677718395  \n",
       "14     2017  200000000            146510104  389813101        863756051  \n",
       "15     2017  175000000            117027503  334201140        880166924  \n",
       "16     2017  180000000            122744989  315058289        853977126  \n",
       "17     2018  200000000            202003951  700059566       1346913161  \n",
       "18     2018  321000000            257698183  678815482       2048359754  \n",
       "19     2018  162000000             75812205  216648740        622674139  \n",
       "20     2019  175000000            153433423  426829839       1128274794  \n",
       "21     2019  356000000            357115007  858373000       2797800564  \n",
       "22     2019  160000000             92579212  390532085       1131927996  \n",
       "23     2004  100000000             16728411   40202379         82102379  \n",
       "24     2005  150000000             48745440  206852432        373413297  \n",
       "25     2006  270000000             52535096  200081192        391081192  \n",
       "26     2008  185000000            158411483  535234033       1004934033  \n",
       "27     2009  130000000             55214334  107509799        185258983  \n",
       "28     2010   47000000              5379365   10547117         10903312  \n",
       "29     2011  200000000             53174303  116601172        219851172  \n",
       "30     2012  250000000            160887295  448139099       1081041287  \n",
       "31     2013  225000000            116619362  291045518        668045518  \n",
       "32     2016  250000000            166007347  330360194        873634919  \n",
       "33     2016  175000000            133682248  325100054        746846894  \n",
       "34     2017  149000000            103251471  412563408        821847012  \n",
       "35     2017  300000000             93842239  229024295        657924295  \n",
       "36     2018  160000000             67873522  335061807       1148161807  \n",
       "37     2019  100000000             53505326  140371656        364571656  \n",
       "38     2019   55000000             96202337  333204580       1060504580  "
      ]
     },
     "execution_count": 2,
     "metadata": {},
     "output_type": "execute_result"
    }
   ],
   "source": [
    "data = pd.read_csv(\"../db.csv\")\n",
    "data"
   ]
  },
  {
   "cell_type": "code",
   "execution_count": 3,
   "metadata": {},
   "outputs": [
    {
     "name": "stdout",
     "output_type": "stream",
     "text": [
      "<class 'pandas.core.frame.DataFrame'>\n",
      "RangeIndex: 39 entries, 0 to 38\n",
      "Data columns (total 10 columns):\n",
      " #   Column               Non-Null Count  Dtype  \n",
      "---  ------               --------------  -----  \n",
      " 0   Original Title       39 non-null     object \n",
      " 1   Company              39 non-null     object \n",
      " 2   Rate                 39 non-null     float64\n",
      " 3   Metascore            39 non-null     int64  \n",
      " 4   Minutes              39 non-null     int64  \n",
      " 5   Release              39 non-null     int64  \n",
      " 6   Budget               39 non-null     int64  \n",
      " 7   Opening Weekend USA  39 non-null     int64  \n",
      " 8   Gross USA            39 non-null     int64  \n",
      " 9   Gross Worldwide      39 non-null     int64  \n",
      "dtypes: float64(1), int64(7), object(2)\n",
      "memory usage: 3.2+ KB\n"
     ]
    }
   ],
   "source": [
    "data.info()"
   ]
  },
  {
   "cell_type": "code",
   "execution_count": 8,
   "metadata": {},
   "outputs": [],
   "source": [
    "lista1 = data[\"Rate\"].to_list()\n",
    "lista2 = data[\"Metascore\"].to_list()\n",
    "lista3 = data[\"Minutes\"].to_list()\n",
    "lista4 = data[\"Release\"].to_list()\n",
    "lista5 = data[\"Budget\"].to_list()\n",
    "lista6 = data[\"Opening Weekend USA\"].to_list()\n",
    "#lista7 = data[\"Gross USA\"].to_list()\n",
    "lista7 = data[\"Gross Worldwide\"].to_list()"
   ]
  },
  {
   "cell_type": "code",
   "execution_count": 9,
   "metadata": {},
   "outputs": [
    {
     "name": "stdout",
     "output_type": "stream",
     "text": [
      "Lista 1:\n",
      "\n",
      "[7.9, 6.7, 7.0, 7.0, 6.9, 8.0, 7.2, 6.9, 7.7, 8.0, 7.3, 7.3, 7.8, 7.5, 7.6, 7.4, 7.9, 7.3, 8.5, 7.1, 6.9, 8.5, 7.6, 3.3, 8.2, 6.0, 9.0, 7.6, 4.7, 5.5, 8.4, 7.1, 6.5, 6.0, 7.4, 6.4, 7.0, 7.1, 8.7]\n",
      "Lista 2:\n",
      "\n",
      "[79, 61, 57, 57, 66, 69, 62, 54, 70, 76, 66, 64, 75, 72, 67, 73, 74, 88, 68, 70, 64, 78, 69, 27, 70, 72, 84, 56, 33, 39, 78, 55, 44, 40, 76, 45, 55, 71, 59]\n",
      "Lista 3:\n",
      "\n",
      "[126, 112, 124, 115, 124, 143, 130, 112, 136, 121, 141, 117, 147, 115, 136, 133, 130, 134, 149, 118, 123, 181, 129, 104, 140, 154, 152, 162, 81, 114, 164, 143, 151, 123, 141, 120, 143, 132, 122]\n",
      "Lista 4:\n",
      "\n",
      "[2008, 2008, 2010, 2011, 2011, 2012, 2013, 2013, 2014, 2014, 2015, 2015, 2016, 2016, 2017, 2017, 2017, 2018, 2018, 2018, 2019, 2019, 2019, 2004, 2005, 2006, 2008, 2009, 2010, 2011, 2012, 2013, 2016, 2016, 2017, 2017, 2018, 2019, 2019]\n",
      "Lista 5:\n",
      "\n",
      "[140000000, 150000000, 200000000, 150000000, 140000000, 220000000, 200000000, 170000000, 170000000, 170000000, 250000000, 130000000, 250000000, 165000000, 200000000, 175000000, 180000000, 200000000, 321000000, 162000000, 175000000, 356000000, 160000000, 100000000, 150000000, 270000000, 185000000, 130000000, 47000000, 200000000, 250000000, 225000000, 250000000, 175000000, 149000000, 300000000, 160000000, 100000000, 55000000]\n",
      "Lista 6:\n",
      "\n",
      "[98618668, 55414050, 128122480, 65723338, 65058524, 207438708, 174144585, 85737841, 95023721, 94320883, 191271109, 57225526, 179139142, 85058311, 146510104, 117027503, 122744989, 202003951, 257698183, 75812205, 153433423, 357115007, 92579212, 16728411, 48745440, 52535096, 158411483, 55214334, 5379365, 53174303, 160887295, 116619362, 166007347, 133682248, 103251471, 93842239, 67873522, 53505326, 96202337]\n",
      "Lista 7:\n",
      "\n",
      "[585366247, 263427551, 623933331, 449326618, 370569774, 1518812988, 1214811252, 644783140, 714421503, 772776600, 1402805868, 519311965, 1153296293, 677718395, 863756051, 880166924, 853977126, 1346913161, 2048359754, 622674139, 1128274794, 2797800564, 1131927996, 82102379, 373413297, 391081192, 1004934033, 185258983, 10903312, 219851172, 1081041287, 668045518, 873634919, 746846894, 821847012, 657924295, 1148161807, 364571656, 1060504580]\n"
     ]
    }
   ],
   "source": [
    "print(\"Lista 1:\\n\")\n",
    "print(lista1)\n",
    "print(\"Lista 2:\\n\")\n",
    "print(lista2)\n",
    "print(\"Lista 3:\\n\")\n",
    "print(lista3)\n",
    "print(\"Lista 4:\\n\")\n",
    "print(lista4)\n",
    "print(\"Lista 5:\\n\")\n",
    "print(lista5)\n",
    "print(\"Lista 6:\\n\")\n",
    "print(lista6)\n",
    "print(\"Lista 7:\\n\")\n",
    "print(lista7)"
   ]
  },
  {
   "cell_type": "markdown",
   "metadata": {},
   "source": [
    "## Hallamos la media y la desviación estándar:"
   ]
  },
  {
   "cell_type": "markdown",
   "metadata": {},
   "source": [
    "Para la lista 1."
   ]
  },
  {
   "cell_type": "code",
   "execution_count": 10,
   "metadata": {},
   "outputs": [
    {
     "name": "stdout",
     "output_type": "stream",
     "text": [
      "la media de la lista1 es:  7.202564102564102\n",
      "\n",
      "La desviacion estandar es:  1.060838366935631\n"
     ]
    }
   ],
   "source": [
    "suma = 0\n",
    "suma_desviacion = 0\n",
    "for i in lista1:\n",
    "    suma += i\n",
    "n = len(lista1)\n",
    "suma = suma/n\n",
    "print(\"la media de la lista1 es: \", suma)\n",
    "for i in lista1:\n",
    "    suma_desviacion = suma_desviacion + ( (i - suma)**2 )\n",
    "suma_desviacion= ( suma_desviacion / n)**0.5\n",
    "print(\"\\nLa desviacion estandar es: \", suma_desviacion)"
   ]
  },
  {
   "cell_type": "markdown",
   "metadata": {},
   "source": [
    "Para la lista 2."
   ]
  },
  {
   "cell_type": "code",
   "execution_count": 11,
   "metadata": {},
   "outputs": [
    {
     "name": "stdout",
     "output_type": "stream",
     "text": [
      "la media de la lista1 es:  63.666666666666664\n",
      "\n",
      "La desviacion estandar es:  13.681980163579437\n"
     ]
    }
   ],
   "source": [
    "suma = 0\n",
    "suma_desviacion = 0\n",
    "for i in lista2:\n",
    "    suma += i\n",
    "n = len(lista2)\n",
    "suma = suma/n\n",
    "print(\"la media de la lista1 es: \", suma)\n",
    "for i in lista2:\n",
    "    suma_desviacion = suma_desviacion + ( (i - suma)**2 )\n",
    "suma_desviacion= ( suma_desviacion / n)**0.5\n",
    "print(\"\\nLa desviacion estandar es: \", suma_desviacion)"
   ]
  },
  {
   "cell_type": "markdown",
   "metadata": {},
   "source": [
    "Para la lista 3."
   ]
  },
  {
   "cell_type": "code",
   "execution_count": 12,
   "metadata": {},
   "outputs": [
    {
     "name": "stdout",
     "output_type": "stream",
     "text": [
      "la media de la lista1 es:  131.84615384615384\n",
      "\n",
      "La desviacion estandar es:  18.20473094546701\n"
     ]
    }
   ],
   "source": [
    "suma = 0\n",
    "suma_desviacion = 0\n",
    "for i in lista3:\n",
    "    suma += i\n",
    "n = len(lista3)\n",
    "suma = suma/n\n",
    "print(\"la media de la lista1 es: \", suma)\n",
    "for i in lista3:\n",
    "    suma_desviacion = suma_desviacion + ( (i - suma)**2 )\n",
    "suma_desviacion= ( suma_desviacion / n)**0.5\n",
    "print(\"\\nLa desviacion estandar es: \", suma_desviacion)"
   ]
  },
  {
   "cell_type": "markdown",
   "metadata": {},
   "source": [
    "Para la lista 4."
   ]
  },
  {
   "cell_type": "code",
   "execution_count": 14,
   "metadata": {},
   "outputs": [
    {
     "name": "stdout",
     "output_type": "stream",
     "text": [
      "la media de la lista1 es:  2013.7948717948718\n",
      "\n",
      "La desviacion estandar es:  4.231623845307947\n"
     ]
    }
   ],
   "source": [
    "suma = 0\n",
    "suma_desviacion = 0\n",
    "for i in lista4:\n",
    "    suma += i\n",
    "n = len(lista4)\n",
    "suma = suma/n\n",
    "print(\"la media de la lista1 es: \", suma)\n",
    "for i in lista4:\n",
    "    suma_desviacion = suma_desviacion + ( (i - suma)**2 )\n",
    "suma_desviacion= ( suma_desviacion / n)**0.5\n",
    "print(\"\\nLa desviacion estandar es: \", suma_desviacion)"
   ]
  },
  {
   "cell_type": "markdown",
   "metadata": {},
   "source": [
    "Para la lista 5."
   ]
  },
  {
   "cell_type": "code",
   "execution_count": 13,
   "metadata": {},
   "outputs": [
    {
     "name": "stdout",
     "output_type": "stream",
     "text": [
      "la media de la lista1 es:  184102564.1025641\n",
      "\n",
      "La desviacion estandar es:  63579062.37836917\n"
     ]
    }
   ],
   "source": [
    "suma = 0\n",
    "suma_desviacion = 0\n",
    "for i in lista5:\n",
    "    suma += i\n",
    "n = len(lista5)\n",
    "suma = suma/n\n",
    "print(\"la media de la lista1 es: \", suma)\n",
    "for i in lista5:\n",
    "    suma_desviacion = suma_desviacion + ( (i - suma)**2 )\n",
    "suma_desviacion= ( suma_desviacion / n)**0.5\n",
    "print(\"\\nLa desviacion estandar es: \", suma_desviacion)"
   ]
  },
  {
   "cell_type": "markdown",
   "metadata": {},
   "source": [
    "Para la lista 6."
   ]
  },
  {
   "cell_type": "code",
   "execution_count": 15,
   "metadata": {},
   "outputs": [
    {
     "name": "stdout",
     "output_type": "stream",
     "text": [
      "la media de la lista1 es:  115109770.3076923\n",
      "\n",
      "La desviacion estandar es:  67781014.43615896\n"
     ]
    }
   ],
   "source": [
    "suma = 0\n",
    "suma_desviacion = 0\n",
    "for i in lista6:\n",
    "    suma += i\n",
    "n = len(lista6)\n",
    "suma = suma/n\n",
    "print(\"la media de la lista1 es: \", suma)\n",
    "for i in lista6:\n",
    "    suma_desviacion = suma_desviacion + ( (i - suma)**2 )\n",
    "suma_desviacion= ( suma_desviacion / n)**0.5\n",
    "print(\"\\nLa desviacion estandar es: \", suma_desviacion)"
   ]
  },
  {
   "cell_type": "markdown",
   "metadata": {},
   "source": [
    "Para la lista 7."
   ]
  },
  {
   "cell_type": "code",
   "execution_count": 16,
   "metadata": {},
   "outputs": [
    {
     "name": "stdout",
     "output_type": "stream",
     "text": [
      "la media de la lista1 es:  827572676.1538461\n",
      "\n",
      "La desviacion estandar es:  526351105.5452255\n"
     ]
    }
   ],
   "source": [
    "suma = 0\n",
    "suma_desviacion = 0\n",
    "for i in lista7:\n",
    "    suma += i\n",
    "n = len(lista7)\n",
    "suma = suma/n\n",
    "print(\"la media de la lista1 es: \", suma)\n",
    "for i in lista7:\n",
    "    suma_desviacion = suma_desviacion + ( (i - suma)**2 )\n",
    "suma_desviacion= ( suma_desviacion / n)**0.5\n",
    "print(\"\\nLa desviacion estandar es: \", suma_desviacion)"
   ]
  },
  {
   "cell_type": "markdown",
   "metadata": {},
   "source": [
    "## Hallando la mediana:"
   ]
  },
  {
   "cell_type": "markdown",
   "metadata": {},
   "source": [
    "Para la lista 1."
   ]
  },
  {
   "cell_type": "code",
   "execution_count": 26,
   "metadata": {},
   "outputs": [
    {
     "name": "stdout",
     "output_type": "stream",
     "text": [
      "[3.3, 4.7, 5.5, 6.0, 6.0, 6.4, 6.5, 6.7, 6.9, 6.9, 6.9, 7.0, 7.0, 7.0, 7.1, 7.1, 7.1, 7.2, 7.3, 7.3, 7.3, 7.4, 7.4, 7.5, 7.6, 7.6, 7.6, 7.7, 7.8, 7.9, 7.9, 8.0, 8.0, 8.2, 8.4, 8.5, 8.5, 8.7, 9.0]\n",
      "\n",
      "la mediana de la lista1 es:  7.3\n"
     ]
    }
   ],
   "source": [
    "lista1.sort()\n",
    "print(lista1)\n",
    "m = len(lista1)/2\n",
    "if m % 2 == 0:\n",
    "    print(m)\n",
    "    print(\"\\nla mediana de la lista1 es: \", lista1[int(m)])\n",
    "else:\n",
    "    print(\"\\nla mediana de la lista1 es: \", lista1[int(m)+1])"
   ]
  },
  {
   "cell_type": "markdown",
   "metadata": {},
   "source": [
    "Para la lista 2."
   ]
  },
  {
   "cell_type": "code",
   "execution_count": 27,
   "metadata": {},
   "outputs": [
    {
     "name": "stdout",
     "output_type": "stream",
     "text": [
      "[27, 33, 39, 40, 44, 45, 54, 55, 55, 56, 57, 57, 59, 61, 62, 64, 64, 66, 66, 67, 68, 69, 69, 70, 70, 70, 71, 72, 72, 73, 74, 75, 76, 76, 78, 78, 79, 84, 88]\n",
      "\n",
      "la mediana de la lista1 es:  67\n"
     ]
    }
   ],
   "source": [
    "lista2.sort()\n",
    "print(lista2)\n",
    "m = len(lista2)/2\n",
    "if m % 2 == 0:\n",
    "    print(m)\n",
    "    print(\"\\nla mediana de la lista1 es: \", lista2[int(m)+1])\n",
    "else:\n",
    "    print(\"\\nla mediana de la lista1 es: \", lista2[int(m)])"
   ]
  },
  {
   "cell_type": "markdown",
   "metadata": {},
   "source": [
    "Para la lista 3."
   ]
  },
  {
   "cell_type": "code",
   "execution_count": 28,
   "metadata": {},
   "outputs": [
    {
     "name": "stdout",
     "output_type": "stream",
     "text": [
      "[81, 104, 112, 112, 114, 115, 115, 117, 118, 120, 121, 122, 123, 123, 124, 124, 126, 129, 130, 130, 132, 133, 134, 136, 136, 140, 141, 141, 143, 143, 143, 147, 149, 151, 152, 154, 162, 164, 181]\n",
      "\n",
      "la mediana de la lista1 es:  130\n"
     ]
    }
   ],
   "source": [
    "lista3.sort()\n",
    "print(lista3)\n",
    "m = len(lista3)/2\n",
    "if m % 2 == 0:\n",
    "    print(m)\n",
    "    print(\"\\nla mediana de la lista1 es: \", lista3[int(m)+1])\n",
    "else:\n",
    "    print(\"\\nla mediana de la lista1 es: \", lista3[int(m)])"
   ]
  },
  {
   "cell_type": "markdown",
   "metadata": {},
   "source": [
    "Para la lista 4."
   ]
  },
  {
   "cell_type": "code",
   "execution_count": 29,
   "metadata": {},
   "outputs": [
    {
     "name": "stdout",
     "output_type": "stream",
     "text": [
      "[2004, 2005, 2006, 2008, 2008, 2008, 2009, 2010, 2010, 2011, 2011, 2011, 2012, 2012, 2013, 2013, 2013, 2014, 2014, 2015, 2015, 2016, 2016, 2016, 2016, 2017, 2017, 2017, 2017, 2017, 2018, 2018, 2018, 2018, 2019, 2019, 2019, 2019, 2019]\n",
      "\n",
      "la mediana de la lista4 es:  2015\n"
     ]
    }
   ],
   "source": [
    "lista4.sort()\n",
    "print(lista4)\n",
    "m = len(lista4)/2\n",
    "if m % 2 == 0:\n",
    "    print(m)\n",
    "    print(\"\\nla mediana de la lista4 es: \", lista4[int(m)+1])\n",
    "else:\n",
    "    print(\"\\nla mediana de la lista4 es: \", lista4[int(m)])"
   ]
  },
  {
   "cell_type": "markdown",
   "metadata": {},
   "source": [
    "Para la lista 5."
   ]
  },
  {
   "cell_type": "code",
   "execution_count": 30,
   "metadata": {},
   "outputs": [
    {
     "name": "stdout",
     "output_type": "stream",
     "text": [
      "[47000000, 55000000, 100000000, 100000000, 130000000, 130000000, 140000000, 140000000, 149000000, 150000000, 150000000, 150000000, 160000000, 160000000, 162000000, 165000000, 170000000, 170000000, 170000000, 175000000, 175000000, 175000000, 180000000, 185000000, 200000000, 200000000, 200000000, 200000000, 200000000, 220000000, 225000000, 250000000, 250000000, 250000000, 250000000, 270000000, 300000000, 321000000, 356000000]\n",
      "\n",
      "la mediana de la lista5 es:  175000000\n"
     ]
    }
   ],
   "source": [
    "lista5.sort()\n",
    "print(lista5)\n",
    "m = len(lista5)/2\n",
    "if m % 2 == 0:\n",
    "    print(m)\n",
    "    print(\"\\nla mediana de la lista5 es: \", lista5[int(m)+1])\n",
    "else:\n",
    "    print(\"\\nla mediana de la lista5 es: \", lista5[int(m)])"
   ]
  },
  {
   "cell_type": "markdown",
   "metadata": {},
   "source": [
    "Para la lista 6."
   ]
  },
  {
   "cell_type": "code",
   "execution_count": 31,
   "metadata": {},
   "outputs": [
    {
     "name": "stdout",
     "output_type": "stream",
     "text": [
      "[5379365, 16728411, 48745440, 52535096, 53174303, 53505326, 55214334, 55414050, 57225526, 65058524, 65723338, 67873522, 75812205, 85058311, 85737841, 92579212, 93842239, 94320883, 95023721, 96202337, 98618668, 103251471, 116619362, 117027503, 122744989, 128122480, 133682248, 146510104, 153433423, 158411483, 160887295, 166007347, 174144585, 179139142, 191271109, 202003951, 207438708, 257698183, 357115007]\n",
      "\n",
      "la mediana de la lista6 es:  96202337\n"
     ]
    }
   ],
   "source": [
    "lista6.sort()\n",
    "print(lista6)\n",
    "m = len(lista6)/2\n",
    "if m % 2 == 0:\n",
    "    print(m)\n",
    "    print(\"\\nla mediana de la lista6 es: \", lista6[int(m)+1])\n",
    "else:\n",
    "    print(\"\\nla mediana de la lista6 es: \", lista6[int(m)])"
   ]
  },
  {
   "cell_type": "markdown",
   "metadata": {},
   "source": [
    "Para la lista 7."
   ]
  },
  {
   "cell_type": "code",
   "execution_count": 32,
   "metadata": {},
   "outputs": [
    {
     "name": "stdout",
     "output_type": "stream",
     "text": [
      "[10903312, 82102379, 185258983, 219851172, 263427551, 364571656, 370569774, 373413297, 391081192, 449326618, 519311965, 585366247, 622674139, 623933331, 644783140, 657924295, 668045518, 677718395, 714421503, 746846894, 772776600, 821847012, 853977126, 863756051, 873634919, 880166924, 1004934033, 1060504580, 1081041287, 1128274794, 1131927996, 1148161807, 1153296293, 1214811252, 1346913161, 1402805868, 1518812988, 2048359754, 2797800564]\n",
      "\n",
      "la mediana de la lista7 es:  746846894\n"
     ]
    }
   ],
   "source": [
    "lista7.sort()\n",
    "print(lista7)\n",
    "m = len(lista7)/2\n",
    "if m % 2 == 0:\n",
    "    print(m)\n",
    "    print(\"\\nla mediana de la lista7 es: \", lista7[int(m)+1])\n",
    "else:\n",
    "    print(\"\\nla mediana de la lista7 es: \", lista7[int(m)])"
   ]
  },
  {
   "cell_type": "markdown",
   "metadata": {},
   "source": [
    "## Inciso b. Uso de librerías"
   ]
  },
  {
   "cell_type": "code",
   "execution_count": 25,
   "metadata": {},
   "outputs": [
    {
     "data": {
      "text/html": [
       "<div>\n",
       "<style scoped>\n",
       "    .dataframe tbody tr th:only-of-type {\n",
       "        vertical-align: middle;\n",
       "    }\n",
       "\n",
       "    .dataframe tbody tr th {\n",
       "        vertical-align: top;\n",
       "    }\n",
       "\n",
       "    .dataframe thead th {\n",
       "        text-align: right;\n",
       "    }\n",
       "</style>\n",
       "<table border=\"1\" class=\"dataframe\">\n",
       "  <thead>\n",
       "    <tr style=\"text-align: right;\">\n",
       "      <th></th>\n",
       "      <th>Rate</th>\n",
       "      <th>Metascore</th>\n",
       "      <th>Minutes</th>\n",
       "      <th>Release</th>\n",
       "      <th>Budget</th>\n",
       "      <th>Opening Weekend USA</th>\n",
       "      <th>Gross USA</th>\n",
       "      <th>Gross Worldwide</th>\n",
       "    </tr>\n",
       "  </thead>\n",
       "  <tbody>\n",
       "    <tr>\n",
       "      <th>count</th>\n",
       "      <td>39.000000</td>\n",
       "      <td>39.000000</td>\n",
       "      <td>39.000000</td>\n",
       "      <td>39.000000</td>\n",
       "      <td>3.900000e+01</td>\n",
       "      <td>3.900000e+01</td>\n",
       "      <td>3.900000e+01</td>\n",
       "      <td>3.900000e+01</td>\n",
       "    </tr>\n",
       "    <tr>\n",
       "      <th>mean</th>\n",
       "      <td>7.202564</td>\n",
       "      <td>63.666667</td>\n",
       "      <td>131.846154</td>\n",
       "      <td>2013.794872</td>\n",
       "      <td>1.841026e+08</td>\n",
       "      <td>1.151098e+08</td>\n",
       "      <td>3.232659e+08</td>\n",
       "      <td>8.275727e+08</td>\n",
       "    </tr>\n",
       "    <tr>\n",
       "      <th>std</th>\n",
       "      <td>1.074706</td>\n",
       "      <td>13.860837</td>\n",
       "      <td>18.442711</td>\n",
       "      <td>4.286942</td>\n",
       "      <td>6.441020e+07</td>\n",
       "      <td>6.866708e+07</td>\n",
       "      <td>1.807086e+08</td>\n",
       "      <td>5.332318e+08</td>\n",
       "    </tr>\n",
       "    <tr>\n",
       "      <th>min</th>\n",
       "      <td>3.300000</td>\n",
       "      <td>27.000000</td>\n",
       "      <td>81.000000</td>\n",
       "      <td>2004.000000</td>\n",
       "      <td>4.700000e+07</td>\n",
       "      <td>5.379365e+06</td>\n",
       "      <td>1.054712e+07</td>\n",
       "      <td>1.090331e+07</td>\n",
       "    </tr>\n",
       "    <tr>\n",
       "      <th>25%</th>\n",
       "      <td>6.900000</td>\n",
       "      <td>56.500000</td>\n",
       "      <td>120.500000</td>\n",
       "      <td>2011.000000</td>\n",
       "      <td>1.500000e+08</td>\n",
       "      <td>6.539093e+07</td>\n",
       "      <td>2.032217e+08</td>\n",
       "      <td>4.843193e+08</td>\n",
       "    </tr>\n",
       "    <tr>\n",
       "      <th>50%</th>\n",
       "      <td>7.300000</td>\n",
       "      <td>67.000000</td>\n",
       "      <td>130.000000</td>\n",
       "      <td>2015.000000</td>\n",
       "      <td>1.750000e+08</td>\n",
       "      <td>9.620234e+07</td>\n",
       "      <td>3.186041e+08</td>\n",
       "      <td>7.468469e+08</td>\n",
       "    </tr>\n",
       "    <tr>\n",
       "      <th>75%</th>\n",
       "      <td>7.850000</td>\n",
       "      <td>72.500000</td>\n",
       "      <td>143.000000</td>\n",
       "      <td>2017.000000</td>\n",
       "      <td>2.100000e+08</td>\n",
       "      <td>1.559225e+08</td>\n",
       "      <td>4.085492e+08</td>\n",
       "      <td>1.104658e+09</td>\n",
       "    </tr>\n",
       "    <tr>\n",
       "      <th>max</th>\n",
       "      <td>9.000000</td>\n",
       "      <td>88.000000</td>\n",
       "      <td>181.000000</td>\n",
       "      <td>2019.000000</td>\n",
       "      <td>3.560000e+08</td>\n",
       "      <td>3.571150e+08</td>\n",
       "      <td>8.583730e+08</td>\n",
       "      <td>2.797801e+09</td>\n",
       "    </tr>\n",
       "  </tbody>\n",
       "</table>\n",
       "</div>"
      ],
      "text/plain": [
       "            Rate  Metascore     Minutes      Release        Budget  \\\n",
       "count  39.000000  39.000000   39.000000    39.000000  3.900000e+01   \n",
       "mean    7.202564  63.666667  131.846154  2013.794872  1.841026e+08   \n",
       "std     1.074706  13.860837   18.442711     4.286942  6.441020e+07   \n",
       "min     3.300000  27.000000   81.000000  2004.000000  4.700000e+07   \n",
       "25%     6.900000  56.500000  120.500000  2011.000000  1.500000e+08   \n",
       "50%     7.300000  67.000000  130.000000  2015.000000  1.750000e+08   \n",
       "75%     7.850000  72.500000  143.000000  2017.000000  2.100000e+08   \n",
       "max     9.000000  88.000000  181.000000  2019.000000  3.560000e+08   \n",
       "\n",
       "       Opening Weekend USA     Gross USA  Gross Worldwide  \n",
       "count         3.900000e+01  3.900000e+01     3.900000e+01  \n",
       "mean          1.151098e+08  3.232659e+08     8.275727e+08  \n",
       "std           6.866708e+07  1.807086e+08     5.332318e+08  \n",
       "min           5.379365e+06  1.054712e+07     1.090331e+07  \n",
       "25%           6.539093e+07  2.032217e+08     4.843193e+08  \n",
       "50%           9.620234e+07  3.186041e+08     7.468469e+08  \n",
       "75%           1.559225e+08  4.085492e+08     1.104658e+09  \n",
       "max           3.571150e+08  8.583730e+08     2.797801e+09  "
      ]
     },
     "execution_count": 25,
     "metadata": {},
     "output_type": "execute_result"
    }
   ],
   "source": [
    "data.describe()"
   ]
  },
  {
   "cell_type": "markdown",
   "metadata": {},
   "source": [
    "## Inciso c. Gráficas"
   ]
  },
  {
   "cell_type": "code",
   "execution_count": 35,
   "metadata": {},
   "outputs": [
    {
     "data": {
      "text/plain": [
       "<AxesSubplot:xlabel='Gross Worldwide', ylabel='Budget'>"
      ]
     },
     "execution_count": 35,
     "metadata": {},
     "output_type": "execute_result"
    },
    {
     "data": {
      "image/png": "[encoded data removed]",
      "text/plain": [
       "<Figure size 432x288 with 4 Axes>"
      ]
     },
     "metadata": {
      "needs_background": "light"
     },
     "output_type": "display_data"
    }
   ],
   "source": [
    "figure, axs = plt.subplots(2,2, sharex=True, sharey=True)\n",
    "data.plot(kind=\"scatter\", x=\"Rate\", y=\"Budget\", ax=axs[0][0])\n",
    "data.plot(kind=\"scatter\", x=\"Rate\", y=\"Metascore\", ax=axs[0][1])\n",
    "data.plot(kind=\"scatter\", x=\"Metascore\", y=\"Budget\", ax=axs[1][0])\n",
    "data.plot(kind=\"scatter\", x=\"Gross Worldwide\", y=\"Budget\", ax=axs[1][1])"
   ]
  },
  {
   "cell_type": "code",
   "execution_count": 36,
   "metadata": {},
   "outputs": [
    {
     "data": {
      "text/plain": [
       "Text(0.5, 1.0, 'Histograma del presupuesto')"
      ]
     },
     "execution_count": 36,
     "metadata": {},
     "output_type": "execute_result"
    },
    {
     "data": {
      "image/png": "[encoded data removed]",
      "text/plain": [
       "<Figure size 432x288 with 1 Axes>"
      ]
     },
     "metadata": {
      "needs_background": "light"
     },
     "output_type": "display_data"
    }
   ],
   "source": [
    "plt.hist(data[\"Budget\"], bins = 20)\n",
    "plt.title(\"Histograma del presupuesto\")"
   ]
  },
  {
   "cell_type": "code",
   "execution_count": 37,
   "metadata": {},
   "outputs": [
    {
     "data": {
      "text/plain": [
       "Text(0.5, 1.0, 'Histograma de las ganancias brutas a nivel mundial')"
      ]
     },
     "execution_count": 37,
     "metadata": {},
     "output_type": "execute_result"
    },
    {
     "data": {
      "image/png": "[encoded data removed]",
      "text/plain": [
       "<Figure size 432x288 with 1 Axes>"
      ]
     },
     "metadata": {
      "needs_background": "light"
     },
     "output_type": "display_data"
    }
   ],
   "source": [
    "plt.hist(data[\"Gross Worldwide\"], bins = 20)\n",
    "plt.title(\"Histograma de las ganancias brutas a nivel mundial\")"
   ]
  },
  {
   "cell_type": "code",
   "execution_count": 38,
   "metadata": {},
   "outputs": [
    {
     "data": {
      "text/plain": [
       "Text(0.5, 1.0, 'Histograma del ranking de calificaciones')"
      ]
     },
     "execution_count": 38,
     "metadata": {},
     "output_type": "execute_result"
    },
    {
     "data": {
      "image/png": "[encoded data removed]",
      "text/plain": [
       "<Figure size 432x288 with 1 Axes>"
      ]
     },
     "metadata": {
      "needs_background": "light"
     },
     "output_type": "display_data"
    }
   ],
   "source": [
    "plt.hist(data[\"Rate\"], bins = 20)\n",
    "plt.title(\"Histograma del ranking de calificaciones\")"
   ]
  },
  {
   "cell_type": "markdown",
   "metadata": {},
   "source": [
    "Como podemos ver en las gráficas, estas no tienen casi relacion alguna entre sí, ni una tendencia hacia algún tipo de distribución. Esto pasa porque se trata de un dataset que muestra los datos de dos grandes competidores, DC y Marvel Studios."
   ]
  },
  {
   "cell_type": "markdown",
   "metadata": {},
   "source": [
    "Para analizar los datos de este dataset, se debe primero preprocesar los mismos, lo cual se hará en las siguientes preguntas."
   ]
  },
  {
   "cell_type": "code",
   "execution_count": null,
   "metadata": {},
   "outputs": [],
   "source": []
  }
 ],
 "metadata": {
  "kernelspec": {
   "display_name": "Python 3",
   "language": "python",
   "name": "python3"
  },
  "language_info": {
   "codemirror_mode": {
    "name": "ipython",
    "version": 3
   },
   "file_extension": ".py",
   "mimetype": "text/x-python",
   "name": "python",
   "nbconvert_exporter": "python",
   "pygments_lexer": "ipython3",
   "version": "3.8.5"
  }
 },
 "nbformat": 4,
 "nbformat_minor": 4
}
